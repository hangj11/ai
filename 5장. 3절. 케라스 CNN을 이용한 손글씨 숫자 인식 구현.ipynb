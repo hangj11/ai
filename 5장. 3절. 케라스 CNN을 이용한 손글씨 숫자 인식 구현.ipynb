{
 "cells": [
  {
   "cell_type": "code",
   "execution_count": null,
   "id": "89bca2b6",
   "metadata": {},
   "outputs": [],
   "source": [
    "from tensorflow.keras.datasets import mnist\n",
    "(train_X, train_y), (test_X, test_y) = mnist.load_data()\n",
    "\n",
    "train_X = train_X.reshape(-1, 28, 28, 1) / 255.0 \n",
    "test_X = test_X.reshape(-1, 28, 28, 1) / 255.0 \n",
    "\n",
    "print(\"train_X shape:\", train_X.shape)\n",
    "print(\"test_X shape:\", test_X.shape)"
   ]
  },
  {
   "cell_type": "code",
   "execution_count": null,
   "id": "f4d5a433",
   "metadata": {},
   "outputs": [],
   "source": [
    "from tensorflow.keras.models import Sequential\n",
    "from tensorflow.keras.layers import Dense, Dropout, Flatten\n",
    "from tensorflow.keras.layers import Conv2D, MaxPooling2D\n",
    "\n",
    "model = Sequential()\n",
    "model.add(Conv2D(32, kernel_size=(3,3), \n",
    "                 input_shape=(28,28,1), activation=\"relu\"))\n",
    "model.add(MaxPooling2D(pool_size=(2,2)))\n",
    "model.add(Dropout(0.1))\n",
    "\n",
    "model.add(Conv2D(64, kernel_size=(3,3), activation=\"relu\"))\n",
    "model.add(MaxPooling2D()) # pool_size=(2,2)는 기본값 \n",
    "model.add(Dropout(0.25))\n",
    "\n",
    "model.add(Flatten())\n",
    "model.add(Dense(128, activation=\"relu\"))\n",
    "model.add(Dropout(0.5))\n",
    "model.add(Dense(10, activation=\"softmax\"))"
   ]
  },
  {
   "cell_type": "code",
   "execution_count": null,
   "id": "2bf0a4bd",
   "metadata": {},
   "outputs": [],
   "source": [
    "from tensorflow.keras.callbacks import ModelCheckpoint\n",
    "filename = \"model-digits.h5\" \n",
    "checkpoint = ModelCheckpoint(filepath=filename,\n",
    "                             monitor=\"val_accuracy\", \n",
    "                             save_best_only=True, verbose=1)"
   ]
  },
  {
   "cell_type": "code",
   "execution_count": null,
   "id": "d341d33f",
   "metadata": {},
   "outputs": [],
   "source": [
    "from tensorflow.keras.callbacks import EarlyStopping\n",
    "early_stopping = EarlyStopping(monitor=\"val_accuracy\",  \n",
    "                               patience=5, verbose=1)"
   ]
  },
  {
   "cell_type": "code",
   "execution_count": null,
   "id": "3b579dce",
   "metadata": {},
   "outputs": [],
   "source": [
    "model.compile(loss=\"sparse_categorical_crossentropy\", \n",
    "              optimizer=\"adam\",\n",
    "              metrics=[\"accuracy\"])"
   ]
  },
  {
   "cell_type": "code",
   "execution_count": null,
   "id": "888233e2",
   "metadata": {},
   "outputs": [],
   "source": [
    "model.fit(train_X, train_y, validation_data=(test_X, test_y),\n",
    "          callbacks=[checkpoint, early_stopping], \n",
    "          batch_size=128, epochs=10)"
   ]
  },
  {
   "cell_type": "code",
   "execution_count": null,
   "id": "3790bf49",
   "metadata": {
    "scrolled": true
   },
   "outputs": [],
   "source": [
    "model.evaluate(test_X, test_y)"
   ]
  },
  {
   "cell_type": "code",
   "execution_count": null,
   "id": "eb3f9775",
   "metadata": {},
   "outputs": [],
   "source": [
    "from tensorflow.keras.models import load_model\n",
    "model = load_model(\"mnist_keras_model.h5\")"
   ]
  },
  {
   "cell_type": "code",
   "execution_count": null,
   "id": "67c933c5",
   "metadata": {},
   "outputs": [],
   "source": [
    "import cv2\n",
    "import numpy as np\n",
    "\n",
    "cap = cv2.VideoCapture(0)\n",
    "\n",
    "if cap.isOpened():\n",
    "    while True:\n",
    "        ret, img = cap.read()\n",
    "        if not ret: break # 반환되는 프레임이 없으면 종료\n",
    "            \n",
    "        g_img = cv2.cvtColor(img, cv2.COLOR_BGR2GRAY)\n",
    "        _, bin_img = cv2.threshold(g_img, 110, 255, cv2.THRESH_BINARY_INV)\n",
    "        contours, hierarchy = cv2.findContours(bin_img,\n",
    "                                               cv2.RETR_EXTERNAL, cv2.CHAIN_APPROX_SIMPLE)\n",
    "\n",
    "        for contour in contours:\n",
    "            (x,y), radius = cv2.minEnclosingCircle(contour)\n",
    "            if radius < 5 : continue\n",
    "            xs, xe = int(x-radius), int(x+radius)\n",
    "            ys, ye = int(y-radius), int(y+radius)\n",
    "            cv2.rectangle(bin_img, (xs,ys), (xe,ye), (200,0,0), 1)\n",
    "            roi = bin_img[ys:ye, xs:xe]\n",
    "            if roi.shape[0] * roi.shape[1] == 0:\n",
    "                continue # ROI 배열의 행 또는 열의 크기가 0이면 resize시 예외 발생\n",
    "            roi = cv2.resize(roi, dsize=(24,24))\n",
    "            A = np.zeros((28,28))\n",
    "            A[2:-2,2:-2] = roi\n",
    "            A = A.reshape(-1,28,28,1)\n",
    "            num = np.argmax(model.predict(A, verbose=0))\n",
    "            cv2.putText(bin_img, str(num), (xs, ys), cv2.FONT_HERSHEY_PLAIN, 2, (200,0,0))\n",
    "        cv2.imshow(\"Camera\", bin_img)\n",
    "        if cv2.waitKey(1) == 27: break # ESC\n",
    "else :\n",
    "    print(\"Camera not opened\")\n",
    "    \n",
    "cap.release()\n",
    "cv2.destroyAllWindows()"
   ]
  },
  {
   "cell_type": "code",
   "execution_count": null,
   "id": "9e30cda8",
   "metadata": {},
   "outputs": [],
   "source": []
  }
 ],
 "metadata": {
  "kernelspec": {
   "display_name": "Python 3 (ipykernel)",
   "language": "python",
   "name": "python3"
  },
  "language_info": {
   "codemirror_mode": {
    "name": "ipython",
    "version": 3
   },
   "file_extension": ".py",
   "mimetype": "text/x-python",
   "name": "python",
   "nbconvert_exporter": "python",
   "pygments_lexer": "ipython3",
   "version": "3.10.9"
  },
  "toc": {
   "base_numbering": 1,
   "nav_menu": {},
   "number_sections": true,
   "sideBar": true,
   "skip_h1_title": false,
   "title_cell": "Table of Contents",
   "title_sidebar": "Contents",
   "toc_cell": false,
   "toc_position": {},
   "toc_section_display": true,
   "toc_window_display": false
  },
  "varInspector": {
   "cols": {
    "lenName": 16,
    "lenType": 16,
    "lenVar": 40
   },
   "kernels_config": {
    "python": {
     "delete_cmd_postfix": "",
     "delete_cmd_prefix": "del ",
     "library": "var_list.py",
     "varRefreshCmd": "print(var_dic_list())"
    },
    "r": {
     "delete_cmd_postfix": ") ",
     "delete_cmd_prefix": "rm(",
     "library": "var_list.r",
     "varRefreshCmd": "cat(var_dic_list()) "
    }
   },
   "types_to_exclude": [
    "module",
    "function",
    "builtin_function_or_method",
    "instance",
    "_Feature"
   ],
   "window_display": false
  }
 },
 "nbformat": 4,
 "nbformat_minor": 5
}
