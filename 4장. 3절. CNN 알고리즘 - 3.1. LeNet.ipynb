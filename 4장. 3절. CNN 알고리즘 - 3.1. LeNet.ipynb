{
 "cells": [
  {
   "cell_type": "code",
   "execution_count": 1,
   "id": "ad1dbfe4",
   "metadata": {},
   "outputs": [],
   "source": [
    "from tensorflow.keras.models import Sequential\n",
    "from tensorflow.keras.layers import Dense, Flatten\n",
    "from tensorflow.keras.layers import Conv2D, AveragePooling2D\n",
    "\n",
    "class LeNet:\n",
    "    @staticmethod\n",
    "    def build(input_shape=(32, 32, 1), activation='sigmoid'):\n",
    "        model = Sequential()\n",
    "        model.add(Conv2D(6, (5,5), input_shape=input_shape, \n",
    "                         activation=activation, \n",
    "                         kernel_initializer='random_uniform'))\n",
    "        model.add(AveragePooling2D(pool_size=(2,2)))\n",
    "\n",
    "        model.add(Conv2D(16, (5,5), \n",
    "                         activation=activation, \n",
    "                         kernel_initializer='random_uniform'))\n",
    "        model.add(AveragePooling2D(pool_size=(2,2)))\n",
    "\n",
    "        model.add(Flatten())\n",
    "        model.add(Dense(120, activation=activation))\n",
    "        model.add(Dense(84, activation=activation))\n",
    "        model.add(Dense(10, activation='softmax'))\n",
    "\n",
    "        return model"
   ]
  },
  {
   "cell_type": "code",
   "execution_count": 2,
   "id": "c368e05b",
   "metadata": {},
   "outputs": [
    {
     "name": "stdout",
     "output_type": "stream",
     "text": [
      "Model: \"sequential\"\n",
      "_________________________________________________________________\n",
      " Layer (type)                Output Shape              Param #   \n",
      "=================================================================\n",
      " conv2d (Conv2D)             (None, 24, 24, 6)         156       \n",
      "                                                                 \n",
      " average_pooling2d (AverageP  (None, 12, 12, 6)        0         \n",
      " ooling2D)                                                       \n",
      "                                                                 \n",
      " conv2d_1 (Conv2D)           (None, 8, 8, 16)          2416      \n",
      "                                                                 \n",
      " average_pooling2d_1 (Averag  (None, 4, 4, 16)         0         \n",
      " ePooling2D)                                                     \n",
      "                                                                 \n",
      " flatten (Flatten)           (None, 256)               0         \n",
      "                                                                 \n",
      " dense (Dense)               (None, 120)               30840     \n",
      "                                                                 \n",
      " dense_1 (Dense)             (None, 84)                10164     \n",
      "                                                                 \n",
      " dense_2 (Dense)             (None, 10)                850       \n",
      "                                                                 \n",
      "=================================================================\n",
      "Total params: 44,426\n",
      "Trainable params: 44,426\n",
      "Non-trainable params: 0\n",
      "_________________________________________________________________\n"
     ]
    }
   ],
   "source": [
    "model = LeNet.build(input_shape=(28, 28, 1), activation=\"relu\")\n",
    "model.summary()"
   ]
  },
  {
   "cell_type": "code",
   "execution_count": 3,
   "id": "6d64ca2b",
   "metadata": {},
   "outputs": [],
   "source": [
    "model.compile(loss=\"sparse_categorical_crossentropy\",\n",
    "              optimizer=\"sgd\", \n",
    "              metrics=['accuracy'])"
   ]
  },
  {
   "cell_type": "code",
   "execution_count": 4,
   "id": "1f004f7d",
   "metadata": {},
   "outputs": [
    {
     "name": "stdout",
     "output_type": "stream",
     "text": [
      "train_X shape: (60000, 28, 28, 1)\n",
      "test_X shape: (10000, 28, 28, 1)\n"
     ]
    }
   ],
   "source": [
    "from tensorflow.keras.datasets import mnist\n",
    "\n",
    "(train_X, train_y), (test_X, test_y) = mnist.load_data()\n",
    "\n",
    "train_X = train_X.reshape(-1, 28, 28, 1)\n",
    "test_X = test_X.reshape(-1, 28, 28, 1)\n",
    "\n",
    "train_X = train_X.astype('float32') / 255\n",
    "test_X = test_X.astype('float32') / 255\n",
    "print('train_X shape:', train_X.shape)\n",
    "print('test_X shape:', test_X.shape)"
   ]
  },
  {
   "cell_type": "code",
   "execution_count": 5,
   "id": "c030a976",
   "metadata": {},
   "outputs": [
    {
     "name": "stdout",
     "output_type": "stream",
     "text": [
      "Epoch 1/20\n",
      "300/300 [==============================] - 2s 2ms/step - loss: 2.2893 - accuracy: 0.3203 - val_loss: 2.2653 - val_accuracy: 0.3826\n",
      "Epoch 2/20\n",
      "300/300 [==============================] - 1s 2ms/step - loss: 2.0393 - accuracy: 0.4874 - val_loss: 1.1394 - val_accuracy: 0.7248\n",
      "Epoch 3/20\n",
      "300/300 [==============================] - 1s 2ms/step - loss: 0.6398 - accuracy: 0.8145 - val_loss: 0.4325 - val_accuracy: 0.8749\n",
      "Epoch 4/20\n",
      "300/300 [==============================] - 1s 2ms/step - loss: 0.4131 - accuracy: 0.8745 - val_loss: 0.3535 - val_accuracy: 0.8923\n",
      "Epoch 5/20\n",
      "300/300 [==============================] - 1s 2ms/step - loss: 0.3397 - accuracy: 0.8966 - val_loss: 0.2900 - val_accuracy: 0.9105\n",
      "Epoch 6/20\n",
      "300/300 [==============================] - 1s 2ms/step - loss: 0.2923 - accuracy: 0.9120 - val_loss: 0.2605 - val_accuracy: 0.9195\n",
      "Epoch 7/20\n",
      "300/300 [==============================] - 1s 2ms/step - loss: 0.2619 - accuracy: 0.9201 - val_loss: 0.2689 - val_accuracy: 0.9168\n",
      "Epoch 8/20\n",
      "300/300 [==============================] - 1s 2ms/step - loss: 0.2376 - accuracy: 0.9273 - val_loss: 0.2095 - val_accuracy: 0.9378\n",
      "Epoch 9/20\n",
      "300/300 [==============================] - 1s 2ms/step - loss: 0.2178 - accuracy: 0.9341 - val_loss: 0.1900 - val_accuracy: 0.9438\n",
      "Epoch 10/20\n",
      "300/300 [==============================] - 1s 2ms/step - loss: 0.2008 - accuracy: 0.9388 - val_loss: 0.1837 - val_accuracy: 0.9429\n",
      "Epoch 11/20\n",
      "300/300 [==============================] - 1s 2ms/step - loss: 0.1881 - accuracy: 0.9429 - val_loss: 0.1678 - val_accuracy: 0.9506\n",
      "Epoch 12/20\n",
      "300/300 [==============================] - 1s 2ms/step - loss: 0.1758 - accuracy: 0.9469 - val_loss: 0.1607 - val_accuracy: 0.9511\n",
      "Epoch 13/20\n",
      "300/300 [==============================] - 1s 2ms/step - loss: 0.1660 - accuracy: 0.9490 - val_loss: 0.1510 - val_accuracy: 0.9549\n",
      "Epoch 14/20\n",
      "300/300 [==============================] - 1s 2ms/step - loss: 0.1570 - accuracy: 0.9524 - val_loss: 0.1400 - val_accuracy: 0.9583\n",
      "Epoch 15/20\n",
      "300/300 [==============================] - 1s 2ms/step - loss: 0.1486 - accuracy: 0.9549 - val_loss: 0.1391 - val_accuracy: 0.9574\n",
      "Epoch 16/20\n",
      "300/300 [==============================] - 1s 2ms/step - loss: 0.1428 - accuracy: 0.9561 - val_loss: 0.1381 - val_accuracy: 0.9558\n",
      "Epoch 17/20\n",
      "300/300 [==============================] - 1s 2ms/step - loss: 0.1357 - accuracy: 0.9589 - val_loss: 0.1271 - val_accuracy: 0.9604\n",
      "Epoch 18/20\n",
      "300/300 [==============================] - 1s 2ms/step - loss: 0.1306 - accuracy: 0.9604 - val_loss: 0.1291 - val_accuracy: 0.9586\n",
      "Epoch 19/20\n",
      "300/300 [==============================] - 1s 2ms/step - loss: 0.1254 - accuracy: 0.9618 - val_loss: 0.1200 - val_accuracy: 0.9650\n",
      "Epoch 20/20\n",
      "300/300 [==============================] - 1s 2ms/step - loss: 0.1209 - accuracy: 0.9630 - val_loss: 0.1112 - val_accuracy: 0.9653\n"
     ]
    }
   ],
   "source": [
    "hist = model.fit(train_X, train_y,\n",
    "                 validation_data=(test_X, test_y),\n",
    "                 batch_size=200, epochs=20)"
   ]
  },
  {
   "cell_type": "code",
   "execution_count": 6,
   "id": "350a69a4",
   "metadata": {},
   "outputs": [
    {
     "name": "stdout",
     "output_type": "stream",
     "text": [
      "Test loss: 0.11124993860721588\n",
      "Test accuracy: 0.9653000235557556\n"
     ]
    }
   ],
   "source": [
    "score = model.evaluate(test_X, test_y, verbose=0)\n",
    "print('Test loss:', score[0])\n",
    "print('Test accuracy:', score[1])"
   ]
  },
  {
   "cell_type": "code",
   "execution_count": 7,
   "id": "b693d842",
   "metadata": {},
   "outputs": [
    {
     "name": "stdout",
     "output_type": "stream",
     "text": [
      "79/79 [==============================] - 0s 1ms/step - loss: 0.1112 - accuracy: 0.9653\n",
      "Accuracy: 96.53%\n"
     ]
    }
   ],
   "source": [
    "(loss, accuracy) = model.evaluate(test_X, test_y, batch_size=128)\n",
    "print(\"Accuracy: {:.2f}%\".format(accuracy * 100))"
   ]
  },
  {
   "cell_type": "code",
   "execution_count": 8,
   "id": "15730d05",
   "metadata": {},
   "outputs": [
    {
     "name": "stdout",
     "output_type": "stream",
     "text": [
      "Predicted: 7, Actual: 7\n",
      "Predicted: 8, Actual: 8\n",
      "Predicted: 6, Actual: 6\n",
      "Predicted: 3, Actual: 3\n",
      "Predicted: 3, Actual: 3\n",
      "Predicted: 5, Actual: 5\n",
      "Predicted: 8, Actual: 8\n",
      "Predicted: 3, Actual: 3\n",
      "Predicted: 1, Actual: 1\n",
      "Predicted: 2, Actual: 2\n"
     ]
    }
   ],
   "source": [
    "import numpy as np\n",
    "import cv2\n",
    "\n",
    "samples = np.random.choice(np.arange(0,len(test_y)),size=(10,))\n",
    "\n",
    "for i in samples:\n",
    "    probs = model.predict(test_X[np.newaxis, i])\n",
    "    prediction = probs.argmax(axis=1)\n",
    "    image = (test_X[i] * 255).astype(\"uint8\")\n",
    "    image = cv2.cvtColor(image, cv2.COLOR_GRAY2BGR)\n",
    "    image = cv2.resize(image, (96, 96), \n",
    "                       interpolation=cv2.INTER_LINEAR)\n",
    " \n",
    "    cv2.putText(image, str(prediction[0]), (5, 20),\n",
    "                cv2.FONT_HERSHEY_SIMPLEX, 0.75, (0,255,0), 2)\n",
    "    print(\"Predicted: {}, Actual: {}\".format(prediction[0], test_y[i]))\n",
    "    cv2.imshow(\"Digit\", image)\n",
    "    cv2.waitKey(0)\n",
    "\n",
    "cv2.destroyAllWindows()"
   ]
  },
  {
   "cell_type": "code",
   "execution_count": null,
   "id": "f80bb652",
   "metadata": {},
   "outputs": [],
   "source": []
  }
 ],
 "metadata": {
  "kernelspec": {
   "display_name": "Python 3 (ipykernel)",
   "language": "python",
   "name": "python3"
  },
  "language_info": {
   "codemirror_mode": {
    "name": "ipython",
    "version": 3
   },
   "file_extension": ".py",
   "mimetype": "text/x-python",
   "name": "python",
   "nbconvert_exporter": "python",
   "pygments_lexer": "ipython3",
   "version": "3.9.7"
  },
  "toc": {
   "base_numbering": 1,
   "nav_menu": {},
   "number_sections": true,
   "sideBar": true,
   "skip_h1_title": false,
   "title_cell": "Table of Contents",
   "title_sidebar": "Contents",
   "toc_cell": false,
   "toc_position": {},
   "toc_section_display": true,
   "toc_window_display": false
  }
 },
 "nbformat": 4,
 "nbformat_minor": 5
}
