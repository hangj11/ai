{
 "cells": [
  {
   "cell_type": "markdown",
   "id": "e7266316",
   "metadata": {},
   "source": [
    "### 합성곱 연산"
   ]
  },
  {
   "cell_type": "code",
   "execution_count": null,
   "id": "efd58e74",
   "metadata": {
    "ExecuteTime": {
     "end_time": "2021-06-11T13:12:12.236363Z",
     "start_time": "2021-06-11T13:12:12.231379Z"
    }
   },
   "outputs": [],
   "source": [
    "y = [3, 4, 1, 5, 7, 9, 6, 2]"
   ]
  },
  {
   "cell_type": "code",
   "execution_count": null,
   "id": "e52b5c97",
   "metadata": {
    "ExecuteTime": {
     "end_time": "2021-06-11T13:12:13.025160Z",
     "start_time": "2021-06-11T13:12:12.403368Z"
    }
   },
   "outputs": [],
   "source": [
    "import matplotlib.pyplot as plt\n",
    "plt.plot(y, 'bo-')"
   ]
  },
  {
   "cell_type": "code",
   "execution_count": null,
   "id": "ffc12975",
   "metadata": {
    "ExecuteTime": {
     "end_time": "2021-06-11T13:12:30.105817Z",
     "start_time": "2021-06-11T13:12:29.936620Z"
    }
   },
   "outputs": [],
   "source": [
    "ma_y = [None, 8/3, 10/3, 13/3, 21/3, 22/3, 17/3, None]\n",
    "plt.plot(ma_y, 'go-')"
   ]
  },
  {
   "cell_type": "code",
   "execution_count": null,
   "id": "08e18a0e",
   "metadata": {
    "ExecuteTime": {
     "end_time": "2021-06-11T13:12:38.384863Z",
     "start_time": "2021-06-11T13:12:38.123947Z"
    },
    "scrolled": true
   },
   "outputs": [],
   "source": [
    "data = [3, 4, 1, 5, 7, 9, 6, 2]\n",
    "mavg = [None, 8/3, 10/3, 13/3, 21/3, 22/3, 17/3, None]\n",
    "\n",
    "import matplotlib.pyplot as plt\n",
    "\n",
    "plt.plot(data, 'bo-', label=\"Input Data\")\n",
    "plt.plot(mavg, 'go:', label=\"Averaged Data\")\n",
    "plt.legend()"
   ]
  },
  {
   "cell_type": "code",
   "execution_count": null,
   "id": "preceding-ancient",
   "metadata": {
    "ExecuteTime": {
     "end_time": "2021-06-08T06:19:46.002125Z",
     "start_time": "2021-06-08T06:19:45.999290Z"
    }
   },
   "outputs": [],
   "source": [
    "h = [1/4, 1/2, 1/4]"
   ]
  },
  {
   "cell_type": "code",
   "execution_count": null,
   "id": "younger-development",
   "metadata": {
    "ExecuteTime": {
     "end_time": "2021-06-08T06:21:23.357533Z",
     "start_time": "2021-06-08T06:21:23.353179Z"
    }
   },
   "outputs": [],
   "source": [
    "w_mavg = [None]\n",
    "for i in range(1, len(data)-1) :\n",
    "    w_mavg.append(h[0]*data[i-1] + h[1]*data[i] + h[2]*data[i+1])"
   ]
  },
  {
   "cell_type": "code",
   "execution_count": null,
   "id": "athletic-wholesale",
   "metadata": {
    "ExecuteTime": {
     "end_time": "2021-06-08T06:21:28.472611Z",
     "start_time": "2021-06-08T06:21:28.461560Z"
    }
   },
   "outputs": [],
   "source": [
    "w_mavg"
   ]
  },
  {
   "cell_type": "code",
   "execution_count": null,
   "id": "premium-reconstruction",
   "metadata": {
    "ExecuteTime": {
     "end_time": "2021-06-08T06:23:07.642802Z",
     "start_time": "2021-06-08T06:23:07.531273Z"
    }
   },
   "outputs": [],
   "source": [
    "import matplotlib.pyplot as plt\n",
    "plt.plot(data, 'bo-', label='Input Data')\n",
    "plt.plot(mavg, 'go:', label='Averaged Data')\n",
    "plt.plot(w_mavg, 'ro--', label='Merged Average')\n",
    "plt.legend()"
   ]
  },
  {
   "cell_type": "markdown",
   "id": "9b1d4b09",
   "metadata": {},
   "source": [
    "### 합성곱의 활용"
   ]
  },
  {
   "cell_type": "code",
   "execution_count": null,
   "id": "renewable-forge",
   "metadata": {
    "ExecuteTime": {
     "end_time": "2021-06-08T06:25:29.415758Z",
     "start_time": "2021-06-08T06:25:29.412510Z"
    }
   },
   "outputs": [],
   "source": [
    "data = [0,0,0,10,10,10,10,10,10,10,0,0,0]\n",
    "h = [-1, 2, -1]"
   ]
  },
  {
   "cell_type": "code",
   "execution_count": null,
   "id": "metallic-occasion",
   "metadata": {
    "ExecuteTime": {
     "end_time": "2021-06-08T06:26:55.974701Z",
     "start_time": "2021-06-08T06:26:55.969823Z"
    }
   },
   "outputs": [],
   "source": [
    "w_mavg = [0]\n",
    "for i in range(1, len(data)-1) :\n",
    "    w_mavg.append(h[0]*data[i-1] + h[1]*data[i] + h[2]*data[i+1])"
   ]
  },
  {
   "cell_type": "code",
   "execution_count": null,
   "id": "quick-platinum",
   "metadata": {
    "ExecuteTime": {
     "end_time": "2021-06-08T06:27:11.136807Z",
     "start_time": "2021-06-08T06:27:11.131984Z"
    }
   },
   "outputs": [],
   "source": [
    "import numpy as np\n",
    "np.abs(w_mavg) > 5"
   ]
  },
  {
   "cell_type": "code",
   "execution_count": null,
   "id": "living-enzyme",
   "metadata": {
    "ExecuteTime": {
     "end_time": "2021-06-08T06:28:31.653319Z",
     "start_time": "2021-06-08T06:28:31.553383Z"
    }
   },
   "outputs": [],
   "source": [
    "plt.plot(data, 'bo-', label=\"data\")\n",
    "plt.plot(w_mavg, 'ro--', label=\"weighted\")\n",
    "plt.legend()"
   ]
  },
  {
   "cell_type": "markdown",
   "id": "45d9bfd8",
   "metadata": {},
   "source": [
    "### 합성곱 함수 구현하기"
   ]
  },
  {
   "cell_type": "code",
   "execution_count": null,
   "id": "36a77961",
   "metadata": {
    "ExecuteTime": {
     "end_time": "2021-06-11T12:48:21.288173Z",
     "start_time": "2021-06-11T12:48:21.279164Z"
    }
   },
   "outputs": [],
   "source": [
    "import numpy as np\n",
    "\n",
    "def Conv2D(img, kernel=None, padding=\"valid\"):\n",
    "    if kernel is not None :\n",
    "        h, w = img.shape[0:2]\n",
    "        kh, kw = kernel.shape\n",
    "        sy, sx = int(kh/2), int(kw/2)\n",
    "        if padding==\"same\": \n",
    "            new_shape = (h+sy, w+sx)\n",
    "            img_out = np.zeros(new_shape, dtype=np.uint8)\n",
    "        elif padding==\"valid\":\n",
    "            img_out = np.zeros(img.shape, dtype=np.uint8)\n",
    "\n",
    "        height, width = img_out.shape\n",
    "        for y in range(sy, height-2*sy):\n",
    "            for x in range(sx, width-2*sx):\n",
    "                roi = img[y-sy:y+sy+1, x-sx:x+sx+1]\n",
    "                filtered = roi * kernel\n",
    "                conv_value = np.abs(np.sum(filtered))\n",
    "                img_out[y, x] = np.uint8(conv_value)\n",
    "                \n",
    "        return img_out[sy:-sy, sx:-sx]\n",
    "    else:\n",
    "        print(\"Kernel array not found!\")"
   ]
  },
  {
   "cell_type": "code",
   "execution_count": null,
   "id": "4d9b3ea7",
   "metadata": {
    "ExecuteTime": {
     "end_time": "2021-06-11T12:48:28.687840Z",
     "start_time": "2021-06-11T12:48:22.561137Z"
    }
   },
   "outputs": [],
   "source": [
    "import cv2  # pip install opencv-contrib-python \n",
    "\n",
    "img = cv2.imread(\"home.jpg\", cv2.IMREAD_GRAYSCALE)\n",
    "kernel = np.array([[0,0,0],[0,1,-1],[0,0,0]])\n",
    "output = Conv2D(img, kernel=kernel, padding=\"same\")\n",
    "cv2.imshow(\"House\", img)\n",
    "cv2.imshow(\"Conv2D\", output)\n",
    "cv2.waitKey()\n",
    "cv2.destroyAllWindows()"
   ]
  },
  {
   "cell_type": "markdown",
   "id": "565b5dfd",
   "metadata": {},
   "source": [
    "### 맥스 풀링"
   ]
  },
  {
   "cell_type": "code",
   "execution_count": null,
   "id": "green-desktop",
   "metadata": {
    "ExecuteTime": {
     "end_time": "2021-06-11T12:52:40.208514Z",
     "start_time": "2021-06-11T12:52:40.194519Z"
    }
   },
   "outputs": [],
   "source": [
    "import numpy as np\n",
    "\n",
    "def maxpool2d(img):\n",
    "    height, width = img.shape\n",
    "    img_ = np.zeros((int(height/2), int(width/2)), dtype=np.uint8)\n",
    "    for y in range(int(height/2)):\n",
    "        for x in range(int(width/2)):\n",
    "            try:\n",
    "                img_[y, x] = np.max(img[2*y:2*y+2, 2*x:2*x+2])\n",
    "            except:\n",
    "                pass\n",
    "    return img_"
   ]
  },
  {
   "cell_type": "code",
   "execution_count": null,
   "id": "directed-nancy",
   "metadata": {
    "ExecuteTime": {
     "end_time": "2021-06-11T12:52:57.050251Z",
     "start_time": "2021-06-11T12:52:53.772212Z"
    }
   },
   "outputs": [],
   "source": [
    "import cv2\n",
    "\n",
    "img = cv2.imread(\"lena256.jpg\", cv2.IMREAD_GRAYSCALE)\n",
    "cv2.imshow(\"Lena\", img)\n",
    "kernel = np.array([[0,0,0], [0,1,-1], [0,0,0]])\n",
    "edge = cv2.filter2D(img, -1, kernel)\n",
    "cv2.imshow(\"Egde\", edge)\n",
    "cv2.imshow(\"resize\", cv2.resize(img, dsize=(0,0), fx=0.5, fy=0.5))\n",
    "cv2.imshow(\"Max Pooling\", maxpool2d(img))\n",
    "cv2.imshow(\"edge resize\", cv2.resize(edge, dsize=(0,0), fx=0.5, fy=0.5))\n",
    "cv2.imshow(\"edged max pool\", maxpool2d(edge))\n",
    "\n",
    "cv2.waitKey()\n",
    "cv2.destroyAllWindows()"
   ]
  },
  {
   "cell_type": "code",
   "execution_count": null,
   "id": "periodic-allergy",
   "metadata": {
    "ExecuteTime": {
     "end_time": "2021-06-11T12:53:06.668772Z",
     "start_time": "2021-06-11T12:53:06.287216Z"
    }
   },
   "outputs": [],
   "source": [
    "import matplotlib.pyplot as plt"
   ]
  },
  {
   "cell_type": "code",
   "execution_count": null,
   "id": "demonstrated-prerequisite",
   "metadata": {
    "ExecuteTime": {
     "end_time": "2021-06-11T12:53:07.139570Z",
     "start_time": "2021-06-11T12:53:06.785838Z"
    }
   },
   "outputs": [],
   "source": [
    "plt.imshow(maxpool2d(img), cmap=\"gray\")\n",
    "plt.show()"
   ]
  },
  {
   "cell_type": "code",
   "execution_count": null,
   "id": "cognitive-penguin",
   "metadata": {},
   "outputs": [],
   "source": []
  }
 ],
 "metadata": {
  "kernelspec": {
   "display_name": "Python 3 (ipykernel)",
   "language": "python",
   "name": "python3"
  },
  "language_info": {
   "codemirror_mode": {
    "name": "ipython",
    "version": 3
   },
   "file_extension": ".py",
   "mimetype": "text/x-python",
   "name": "python",
   "nbconvert_exporter": "python",
   "pygments_lexer": "ipython3",
   "version": "3.9.7"
  },
  "toc": {
   "base_numbering": 1,
   "nav_menu": {},
   "number_sections": true,
   "sideBar": true,
   "skip_h1_title": false,
   "title_cell": "Table of Contents",
   "title_sidebar": "Contents",
   "toc_cell": false,
   "toc_position": {},
   "toc_section_display": true,
   "toc_window_display": false
  },
  "varInspector": {
   "cols": {
    "lenName": 16,
    "lenType": 16,
    "lenVar": 40
   },
   "kernels_config": {
    "python": {
     "delete_cmd_postfix": "",
     "delete_cmd_prefix": "del ",
     "library": "var_list.py",
     "varRefreshCmd": "print(var_dic_list())"
    },
    "r": {
     "delete_cmd_postfix": ") ",
     "delete_cmd_prefix": "rm(",
     "library": "var_list.r",
     "varRefreshCmd": "cat(var_dic_list()) "
    }
   },
   "types_to_exclude": [
    "module",
    "function",
    "builtin_function_or_method",
    "instance",
    "_Feature"
   ],
   "window_display": false
  }
 },
 "nbformat": 4,
 "nbformat_minor": 5
}
