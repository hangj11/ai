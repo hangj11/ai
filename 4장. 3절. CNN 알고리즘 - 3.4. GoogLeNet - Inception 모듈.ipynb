{
 "cells": [
  {
   "cell_type": "markdown",
   "id": "424c1e69",
   "metadata": {},
   "source": [
    "# GoogLeNet - Inception 모듈 구현"
   ]
  },
  {
   "cell_type": "markdown",
   "id": "9012364a",
   "metadata": {},
   "source": [
    "## Naive 버전"
   ]
  },
  {
   "cell_type": "code",
   "execution_count": 3,
   "id": "8e015573",
   "metadata": {},
   "outputs": [
    {
     "name": "stdout",
     "output_type": "stream",
     "text": [
      "Model: \"model_2\"\n",
      "__________________________________________________________________________________________________\n",
      " Layer (type)                Output Shape                 Param #   Connected to                  \n",
      "==================================================================================================\n",
      " input_3 (InputLayer)        [(None, 28, 28, 3)]          0         []                            \n",
      "                                                                                                  \n",
      " dense_2 (Dense)             (None, 28, 28, 192)          768       ['input_3[0][0]']             \n",
      "                                                                                                  \n",
      " conv2d_6 (Conv2D)           (None, 28, 28, 64)           12352     ['dense_2[0][0]']             \n",
      "                                                                                                  \n",
      " conv2d_7 (Conv2D)           (None, 28, 28, 128)          221312    ['dense_2[0][0]']             \n",
      "                                                                                                  \n",
      " conv2d_8 (Conv2D)           (None, 28, 28, 32)           153632    ['dense_2[0][0]']             \n",
      "                                                                                                  \n",
      " max_pooling2d_2 (MaxPoolin  (None, 28, 28, 192)          0         ['dense_2[0][0]']             \n",
      " g2D)                                                                                             \n",
      "                                                                                                  \n",
      " concatenate_2 (Concatenate  (None, 28, 28, 416)          0         ['conv2d_6[0][0]',            \n",
      " )                                                                   'conv2d_7[0][0]',            \n",
      "                                                                     'conv2d_8[0][0]',            \n",
      "                                                                     'max_pooling2d_2[0][0]']     \n",
      "                                                                                                  \n",
      "==================================================================================================\n",
      "Total params: 388064 (1.48 MB)\n",
      "Trainable params: 388064 (1.48 MB)\n",
      "Non-trainable params: 0 (0.00 Byte)\n",
      "__________________________________________________________________________________________________\n"
     ]
    }
   ],
   "source": [
    "from tensorflow.keras.models import Model\n",
    "from tensorflow.keras.layers import Input, Dense, Conv2D\n",
    "from tensorflow.keras.layers import MaxPooling2D, concatenate\n",
    "\n",
    "model_input = Input(shape=(28,28,3))\n",
    "pre = Dense(192)(model_input)\n",
    "conv1 = Conv2D(64, 1, padding='same')(pre)\n",
    "conv2 = Conv2D(128, 3, padding='same')(pre)\n",
    "conv3 = Conv2D(32, 5, padding='same')(pre)\n",
    "pool = MaxPooling2D(pool_size=(3,3), strides=1, padding='same')(pre)\n",
    "model_output = concatenate([ conv1, conv2, conv3, pool])\n",
    "\n",
    "model = Model(inputs=model_input, outputs=model_output)\n",
    "model.summary()"
   ]
  },
  {
   "cell_type": "markdown",
   "id": "93149438",
   "metadata": {},
   "source": [
    "## 1x1 Conv층을 추가한 Bottle Neck 구조"
   ]
  },
  {
   "cell_type": "code",
   "execution_count": 1,
   "id": "7e01e6b4",
   "metadata": {},
   "outputs": [
    {
     "name": "stdout",
     "output_type": "stream",
     "text": [
      "Model: \"model\"\n",
      "__________________________________________________________________________________________________\n",
      " Layer (type)                Output Shape                 Param #   Connected to                  \n",
      "==================================================================================================\n",
      " input_1 (InputLayer)        [(None, 28, 28, 3)]          0         []                            \n",
      "                                                                                                  \n",
      " dense (Dense)               (None, 28, 28, 192)          768       ['input_1[0][0]']             \n",
      "                                                                                                  \n",
      " conv2d_1 (Conv2D)           (None, 28, 28, 96)           18528     ['dense[0][0]']               \n",
      "                                                                                                  \n",
      " conv2d_3 (Conv2D)           (None, 28, 28, 16)           3088      ['dense[0][0]']               \n",
      "                                                                                                  \n",
      " max_pooling2d (MaxPooling2  (None, 28, 28, 192)          0         ['dense[0][0]']               \n",
      " D)                                                                                               \n",
      "                                                                                                  \n",
      " conv2d (Conv2D)             (None, 28, 28, 64)           12352     ['dense[0][0]']               \n",
      "                                                                                                  \n",
      " conv2d_2 (Conv2D)           (None, 28, 28, 128)          110720    ['conv2d_1[0][0]']            \n",
      "                                                                                                  \n",
      " conv2d_4 (Conv2D)           (None, 28, 28, 32)           12832     ['conv2d_3[0][0]']            \n",
      "                                                                                                  \n",
      " conv2d_5 (Conv2D)           (None, 28, 28, 32)           6176      ['max_pooling2d[0][0]']       \n",
      "                                                                                                  \n",
      " concatenate (Concatenate)   (None, 28, 28, 256)          0         ['conv2d[0][0]',              \n",
      "                                                                     'conv2d_2[0][0]',            \n",
      "                                                                     'conv2d_4[0][0]',            \n",
      "                                                                     'conv2d_5[0][0]']            \n",
      "                                                                                                  \n",
      "==================================================================================================\n",
      "Total params: 164464 (642.44 KB)\n",
      "Trainable params: 164464 (642.44 KB)\n",
      "Non-trainable params: 0 (0.00 Byte)\n",
      "__________________________________________________________________________________________________\n"
     ]
    }
   ],
   "source": [
    "from tensorflow.keras.models import Model\n",
    "from tensorflow.keras.layers import Input, Dense, Conv2D\n",
    "from tensorflow.keras.layers import MaxPooling2D, concatenate\n",
    "\n",
    "model_input = Input(shape=(28,28,3))\n",
    "pre = Dense(192)(model_input)\n",
    "\n",
    "conv1 = Conv2D(64, 1, padding='same')(pre)\n",
    "\n",
    "conv1_2 = Conv2D(96, 1, padding='same')(pre)\n",
    "conv2 = Conv2D(128, 3, padding='same')(conv1_2)\n",
    "\n",
    "conv1_3 = Conv2D(16, 1, padding='same')(pre)\n",
    "conv3 = Conv2D(32, 5, padding='same')(conv1_3)\n",
    "\n",
    "pool = MaxPooling2D(pool_size=(3,3), strides=1, padding='same')(pre)\n",
    "conv1_4 = Conv2D(32, 1, padding='same')(pool)\n",
    "model_output = concatenate([ conv1, conv2, conv3, conv1_4])\n",
    "\n",
    "model = Model(inputs=model_input, outputs=model_output)\n",
    "model.summary()"
   ]
  }
 ],
 "metadata": {
  "kernelspec": {
   "display_name": "Python 3 (ipykernel)",
   "language": "python",
   "name": "python3"
  },
  "language_info": {
   "codemirror_mode": {
    "name": "ipython",
    "version": 3
   },
   "file_extension": ".py",
   "mimetype": "text/x-python",
   "name": "python",
   "nbconvert_exporter": "python",
   "pygments_lexer": "ipython3",
   "version": "3.10.9"
  },
  "toc": {
   "base_numbering": 1,
   "nav_menu": {},
   "number_sections": true,
   "sideBar": true,
   "skip_h1_title": false,
   "title_cell": "Table of Contents",
   "title_sidebar": "Contents",
   "toc_cell": false,
   "toc_position": {},
   "toc_section_display": true,
   "toc_window_display": false
  },
  "varInspector": {
   "cols": {
    "lenName": 16,
    "lenType": 16,
    "lenVar": 40
   },
   "kernels_config": {
    "python": {
     "delete_cmd_postfix": "",
     "delete_cmd_prefix": "del ",
     "library": "var_list.py",
     "varRefreshCmd": "print(var_dic_list())"
    },
    "r": {
     "delete_cmd_postfix": ") ",
     "delete_cmd_prefix": "rm(",
     "library": "var_list.r",
     "varRefreshCmd": "cat(var_dic_list()) "
    }
   },
   "types_to_exclude": [
    "module",
    "function",
    "builtin_function_or_method",
    "instance",
    "_Feature"
   ],
   "window_display": false
  }
 },
 "nbformat": 4,
 "nbformat_minor": 5
}
