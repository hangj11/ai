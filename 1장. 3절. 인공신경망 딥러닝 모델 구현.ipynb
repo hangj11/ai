{
 "cells": [
  {
   "cell_type": "code",
   "execution_count": 1,
   "id": "dc0dcbfa",
   "metadata": {},
   "outputs": [
    {
     "data": {
      "text/html": [
       "<style>div.container { width:100% !important; }</style>"
      ],
      "text/plain": [
       "<IPython.core.display.HTML object>"
      ]
     },
     "metadata": {},
     "output_type": "display_data"
    }
   ],
   "source": [
    "from IPython.display import display, HTML\n",
    "display(HTML(\"<style>div.container { width:100% !important; }</style>\"))"
   ]
  },
  {
   "cell_type": "markdown",
   "id": "d8a24568",
   "metadata": {},
   "source": [
    "# 인공신경망 딥러닝 모델 구현"
   ]
  },
  {
   "cell_type": "code",
   "execution_count": 2,
   "id": "handled-bubble",
   "metadata": {
    "ExecuteTime": {
     "end_time": "2023-09-19T07:25:49.961006Z",
     "start_time": "2023-09-19T07:25:43.599451Z"
    }
   },
   "outputs": [
    {
     "data": {
      "text/plain": [
       "'2.13.0'"
      ]
     },
     "execution_count": 2,
     "metadata": {},
     "output_type": "execute_result"
    }
   ],
   "source": [
    "import tensorflow\n",
    "tensorflow.__version__"
   ]
  },
  {
   "cell_type": "markdown",
   "id": "0c659969",
   "metadata": {},
   "source": [
    "## iris 데이터 불러오기"
   ]
  },
  {
   "cell_type": "code",
   "execution_count": 3,
   "id": "excited-tractor",
   "metadata": {
    "ExecuteTime": {
     "end_time": "2023-09-19T07:27:40.530478Z",
     "start_time": "2023-09-19T07:27:40.523369Z"
    }
   },
   "outputs": [],
   "source": [
    "from sklearn import datasets"
   ]
  },
  {
   "cell_type": "code",
   "execution_count": 4,
   "id": "handled-scale",
   "metadata": {
    "ExecuteTime": {
     "end_time": "2023-09-19T07:27:41.878542Z",
     "start_time": "2023-09-19T07:27:41.230917Z"
    }
   },
   "outputs": [],
   "source": [
    "iris = datasets.load_iris()\n",
    "iris_X = iris.data\n",
    "iris_y = iris.target"
   ]
  },
  {
   "cell_type": "code",
   "execution_count": 5,
   "id": "gothic-madness",
   "metadata": {
    "ExecuteTime": {
     "end_time": "2023-09-19T07:27:44.392372Z",
     "start_time": "2023-09-19T07:27:44.328355Z"
    }
   },
   "outputs": [],
   "source": [
    "from sklearn.model_selection import train_test_split\n",
    "train_X, test_X, train_y, test_y = train_test_split(iris_X, iris_y, test_size=0.3,\n",
    "                                                    random_state=1)"
   ]
  },
  {
   "cell_type": "markdown",
   "id": "3290eda0",
   "metadata": {},
   "source": [
    "## 싸이킷런을 이용한 구현"
   ]
  },
  {
   "cell_type": "code",
   "execution_count": 25,
   "id": "civilian-fifth",
   "metadata": {
    "ExecuteTime": {
     "end_time": "2023-09-19T07:27:45.815439Z",
     "start_time": "2023-09-19T07:27:45.793167Z"
    }
   },
   "outputs": [],
   "source": [
    "from sklearn.neural_network import MLPClassifier\n",
    "mlp = MLPClassifier(hidden_layer_sizes=(50,30), activation=\"logistic\", solver=\"adam\",\n",
    "                    max_iter=1000) "
   ]
  },
  {
   "cell_type": "code",
   "execution_count": 26,
   "id": "painted-hygiene",
   "metadata": {
    "ExecuteTime": {
     "end_time": "2023-09-19T07:27:48.068385Z",
     "start_time": "2023-09-19T07:27:47.603020Z"
    },
    "scrolled": true
   },
   "outputs": [
    {
     "data": {
      "text/html": [
       "<style>#sk-container-id-2 {color: black;background-color: white;}#sk-container-id-2 pre{padding: 0;}#sk-container-id-2 div.sk-toggleable {background-color: white;}#sk-container-id-2 label.sk-toggleable__label {cursor: pointer;display: block;width: 100%;margin-bottom: 0;padding: 0.3em;box-sizing: border-box;text-align: center;}#sk-container-id-2 label.sk-toggleable__label-arrow:before {content: \"▸\";float: left;margin-right: 0.25em;color: #696969;}#sk-container-id-2 label.sk-toggleable__label-arrow:hover:before {color: black;}#sk-container-id-2 div.sk-estimator:hover label.sk-toggleable__label-arrow:before {color: black;}#sk-container-id-2 div.sk-toggleable__content {max-height: 0;max-width: 0;overflow: hidden;text-align: left;background-color: #f0f8ff;}#sk-container-id-2 div.sk-toggleable__content pre {margin: 0.2em;color: black;border-radius: 0.25em;background-color: #f0f8ff;}#sk-container-id-2 input.sk-toggleable__control:checked~div.sk-toggleable__content {max-height: 200px;max-width: 100%;overflow: auto;}#sk-container-id-2 input.sk-toggleable__control:checked~label.sk-toggleable__label-arrow:before {content: \"▾\";}#sk-container-id-2 div.sk-estimator input.sk-toggleable__control:checked~label.sk-toggleable__label {background-color: #d4ebff;}#sk-container-id-2 div.sk-label input.sk-toggleable__control:checked~label.sk-toggleable__label {background-color: #d4ebff;}#sk-container-id-2 input.sk-hidden--visually {border: 0;clip: rect(1px 1px 1px 1px);clip: rect(1px, 1px, 1px, 1px);height: 1px;margin: -1px;overflow: hidden;padding: 0;position: absolute;width: 1px;}#sk-container-id-2 div.sk-estimator {font-family: monospace;background-color: #f0f8ff;border: 1px dotted black;border-radius: 0.25em;box-sizing: border-box;margin-bottom: 0.5em;}#sk-container-id-2 div.sk-estimator:hover {background-color: #d4ebff;}#sk-container-id-2 div.sk-parallel-item::after {content: \"\";width: 100%;border-bottom: 1px solid gray;flex-grow: 1;}#sk-container-id-2 div.sk-label:hover label.sk-toggleable__label {background-color: #d4ebff;}#sk-container-id-2 div.sk-serial::before {content: \"\";position: absolute;border-left: 1px solid gray;box-sizing: border-box;top: 0;bottom: 0;left: 50%;z-index: 0;}#sk-container-id-2 div.sk-serial {display: flex;flex-direction: column;align-items: center;background-color: white;padding-right: 0.2em;padding-left: 0.2em;position: relative;}#sk-container-id-2 div.sk-item {position: relative;z-index: 1;}#sk-container-id-2 div.sk-parallel {display: flex;align-items: stretch;justify-content: center;background-color: white;position: relative;}#sk-container-id-2 div.sk-item::before, #sk-container-id-2 div.sk-parallel-item::before {content: \"\";position: absolute;border-left: 1px solid gray;box-sizing: border-box;top: 0;bottom: 0;left: 50%;z-index: -1;}#sk-container-id-2 div.sk-parallel-item {display: flex;flex-direction: column;z-index: 1;position: relative;background-color: white;}#sk-container-id-2 div.sk-parallel-item:first-child::after {align-self: flex-end;width: 50%;}#sk-container-id-2 div.sk-parallel-item:last-child::after {align-self: flex-start;width: 50%;}#sk-container-id-2 div.sk-parallel-item:only-child::after {width: 0;}#sk-container-id-2 div.sk-dashed-wrapped {border: 1px dashed gray;margin: 0 0.4em 0.5em 0.4em;box-sizing: border-box;padding-bottom: 0.4em;background-color: white;}#sk-container-id-2 div.sk-label label {font-family: monospace;font-weight: bold;display: inline-block;line-height: 1.2em;}#sk-container-id-2 div.sk-label-container {text-align: center;}#sk-container-id-2 div.sk-container {/* jupyter's `normalize.less` sets `[hidden] { display: none; }` but bootstrap.min.css set `[hidden] { display: none !important; }` so we also need the `!important` here to be able to override the default hidden behavior on the sphinx rendered scikit-learn.org. See: https://github.com/scikit-learn/scikit-learn/issues/21755 */display: inline-block !important;position: relative;}#sk-container-id-2 div.sk-text-repr-fallback {display: none;}</style><div id=\"sk-container-id-2\" class=\"sk-top-container\"><div class=\"sk-text-repr-fallback\"><pre>MLPClassifier(activation=&#x27;logistic&#x27;, hidden_layer_sizes=(50, 30), max_iter=1000)</pre><b>In a Jupyter environment, please rerun this cell to show the HTML representation or trust the notebook. <br />On GitHub, the HTML representation is unable to render, please try loading this page with nbviewer.org.</b></div><div class=\"sk-container\" hidden><div class=\"sk-item\"><div class=\"sk-estimator sk-toggleable\"><input class=\"sk-toggleable__control sk-hidden--visually\" id=\"sk-estimator-id-2\" type=\"checkbox\" checked><label for=\"sk-estimator-id-2\" class=\"sk-toggleable__label sk-toggleable__label-arrow\">MLPClassifier</label><div class=\"sk-toggleable__content\"><pre>MLPClassifier(activation=&#x27;logistic&#x27;, hidden_layer_sizes=(50, 30), max_iter=1000)</pre></div></div></div></div></div>"
      ],
      "text/plain": [
       "MLPClassifier(activation='logistic', hidden_layer_sizes=(50, 30), max_iter=1000)"
      ]
     },
     "execution_count": 26,
     "metadata": {},
     "output_type": "execute_result"
    }
   ],
   "source": [
    "mlp.fit(train_X, train_y)"
   ]
  },
  {
   "cell_type": "code",
   "execution_count": 27,
   "id": "thorough-intent",
   "metadata": {
    "ExecuteTime": {
     "end_time": "2023-09-19T07:27:49.155925Z",
     "start_time": "2023-09-19T07:27:49.139449Z"
    }
   },
   "outputs": [
    {
     "data": {
      "text/plain": [
       "1.0"
      ]
     },
     "execution_count": 27,
     "metadata": {},
     "output_type": "execute_result"
    }
   ],
   "source": [
    "mlp.score(test_X, test_y)"
   ]
  },
  {
   "cell_type": "code",
   "execution_count": 9,
   "id": "capable-packing",
   "metadata": {
    "ExecuteTime": {
     "end_time": "2023-09-19T07:27:50.095942Z",
     "start_time": "2023-09-19T07:27:50.087968Z"
    }
   },
   "outputs": [],
   "source": [
    "pred = mlp.predict(test_X)"
   ]
  },
  {
   "cell_type": "code",
   "execution_count": 10,
   "id": "developmental-married",
   "metadata": {
    "ExecuteTime": {
     "end_time": "2023-09-19T07:27:50.943442Z",
     "start_time": "2023-09-19T07:27:50.895221Z"
    }
   },
   "outputs": [
    {
     "data": {
      "text/html": [
       "<div>\n",
       "<style scoped>\n",
       "    .dataframe tbody tr th:only-of-type {\n",
       "        vertical-align: middle;\n",
       "    }\n",
       "\n",
       "    .dataframe tbody tr th {\n",
       "        vertical-align: top;\n",
       "    }\n",
       "\n",
       "    .dataframe thead th {\n",
       "        text-align: right;\n",
       "    }\n",
       "</style>\n",
       "<table border=\"1\" class=\"dataframe\">\n",
       "  <thead>\n",
       "    <tr style=\"text-align: right;\">\n",
       "      <th>col_0</th>\n",
       "      <th>0</th>\n",
       "      <th>1</th>\n",
       "      <th>2</th>\n",
       "    </tr>\n",
       "    <tr>\n",
       "      <th>row_0</th>\n",
       "      <th></th>\n",
       "      <th></th>\n",
       "      <th></th>\n",
       "    </tr>\n",
       "  </thead>\n",
       "  <tbody>\n",
       "    <tr>\n",
       "      <th>0</th>\n",
       "      <td>14</td>\n",
       "      <td>0</td>\n",
       "      <td>0</td>\n",
       "    </tr>\n",
       "    <tr>\n",
       "      <th>1</th>\n",
       "      <td>0</td>\n",
       "      <td>18</td>\n",
       "      <td>0</td>\n",
       "    </tr>\n",
       "    <tr>\n",
       "      <th>2</th>\n",
       "      <td>0</td>\n",
       "      <td>0</td>\n",
       "      <td>13</td>\n",
       "    </tr>\n",
       "  </tbody>\n",
       "</table>\n",
       "</div>"
      ],
      "text/plain": [
       "col_0   0   1   2\n",
       "row_0            \n",
       "0      14   0   0\n",
       "1       0  18   0\n",
       "2       0   0  13"
      ]
     },
     "execution_count": 10,
     "metadata": {},
     "output_type": "execute_result"
    }
   ],
   "source": [
    "import pandas as pd\n",
    "pd.crosstab(pred, test_y) #교차분류표\n",
    "# pd.crosstab(np.argmax(pred, axis=1), np.argmax(test_y, axis=1)) #교차분류표"
   ]
  },
  {
   "cell_type": "markdown",
   "id": "9f3af4f9",
   "metadata": {
    "ExecuteTime": {
     "end_time": "2021-06-11T12:11:18.360938Z",
     "start_time": "2021-06-11T12:11:18.344944Z"
    }
   },
   "source": [
    "## 텐서플로우를 이용한 구현"
   ]
  },
  {
   "cell_type": "code",
   "execution_count": 11,
   "id": "transparent-egyptian",
   "metadata": {
    "ExecuteTime": {
     "end_time": "2023-09-19T07:27:52.233454Z",
     "start_time": "2023-09-19T07:27:52.224576Z"
    },
    "scrolled": true
   },
   "outputs": [
    {
     "name": "stdout",
     "output_type": "stream",
     "text": [
      "WARNING:tensorflow:From C:\\Users\\kosa\\anaconda3\\lib\\site-packages\\tensorflow\\python\\compat\\v2_compat.py:107: disable_resource_variables (from tensorflow.python.ops.variable_scope) is deprecated and will be removed in a future version.\n",
      "Instructions for updating:\n",
      "non-resource variables are not supported in the long term\n"
     ]
    }
   ],
   "source": [
    "import tensorflow.compat.v1 as tf\n",
    "tf.disable_v2_behavior()"
   ]
  },
  {
   "cell_type": "code",
   "execution_count": 12,
   "id": "requested-webcam",
   "metadata": {
    "ExecuteTime": {
     "end_time": "2023-09-19T07:27:54.940745Z",
     "start_time": "2023-09-19T07:27:54.910375Z"
    }
   },
   "outputs": [],
   "source": [
    "x = tf.placeholder(tf.float32, [None, 4])\n",
    "y = tf.placeholder(tf.float32, [None, 3])"
   ]
  },
  {
   "cell_type": "code",
   "execution_count": 13,
   "id": "posted-explosion",
   "metadata": {
    "ExecuteTime": {
     "end_time": "2023-09-19T07:27:55.567295Z",
     "start_time": "2023-09-19T07:27:55.527538Z"
    }
   },
   "outputs": [],
   "source": [
    "W1 = tf.Variable(tf.zeros([4, 50]))\n",
    "b1 = tf.Variable(tf.zeros([50]))\n",
    "h1 = tf.nn.sigmoid(tf.matmul(x, W1)+b1)"
   ]
  },
  {
   "cell_type": "code",
   "execution_count": 14,
   "id": "exciting-birthday",
   "metadata": {
    "ExecuteTime": {
     "end_time": "2023-09-19T07:28:02.853890Z",
     "start_time": "2023-09-19T07:28:02.827217Z"
    }
   },
   "outputs": [],
   "source": [
    "W2 = tf.Variable(tf.zeros([50, 30]))\n",
    "b2 = tf.Variable(tf.zeros([30]))\n",
    "h2 = tf.nn.sigmoid(tf.matmul(h1, W2)+b2)"
   ]
  },
  {
   "cell_type": "code",
   "execution_count": 15,
   "id": "latin-nigeria",
   "metadata": {
    "ExecuteTime": {
     "end_time": "2023-09-19T07:28:03.691248Z",
     "start_time": "2023-09-19T07:28:03.678976Z"
    }
   },
   "outputs": [],
   "source": [
    "W3 = tf.Variable(tf.zeros([30, 3]))\n",
    "b3 = tf.Variable(tf.zeros([3]))\n",
    "h3 = tf.nn.softmax(tf.matmul(h2, W3)+b3)"
   ]
  },
  {
   "cell_type": "code",
   "execution_count": 16,
   "id": "endless-preserve",
   "metadata": {
    "ExecuteTime": {
     "end_time": "2023-09-19T07:28:04.680310Z",
     "start_time": "2023-09-19T07:28:04.557869Z"
    }
   },
   "outputs": [],
   "source": [
    "cross_entropy = -tf.reduce_sum(y*tf.log(h3), reduction_indices=[1])\n",
    "loss = tf.reduce_mean(cross_entropy)\n",
    "train = tf.train.AdamOptimizer().minimize(loss)"
   ]
  },
  {
   "cell_type": "code",
   "execution_count": 17,
   "id": "speaking-publisher",
   "metadata": {
    "ExecuteTime": {
     "end_time": "2023-09-19T07:28:06.122776Z",
     "start_time": "2023-09-19T07:28:05.404496Z"
    }
   },
   "outputs": [
    {
     "name": "stdout",
     "output_type": "stream",
     "text": [
      "0 1.0978113\n",
      "100 1.0611217\n",
      "200 0.76452047\n",
      "300 0.6687561\n",
      "400 0.6138217\n",
      "500 0.56832063\n",
      "600 0.5274489\n",
      "700 0.4911589\n",
      "800 0.45574504\n",
      "900 0.41874182\n"
     ]
    }
   ],
   "source": [
    "import pandas as pd\n",
    "\n",
    "feed_train = {x: train_X, y: pd.get_dummies(train_y).values}\n",
    "\n",
    "init = tf.global_variables_initializer()\n",
    "sess = tf.Session()\n",
    "sess.run(init)\n",
    "\n",
    "for i in range(1000):\n",
    "    sess.run(train, feed_dict=feed_train)\n",
    "\n",
    "    if i%100 == 0:\n",
    "        tr_loss = sess.run(loss, feed_dict=feed_train)\n",
    "        print(i, tr_loss)"
   ]
  },
  {
   "cell_type": "code",
   "execution_count": 18,
   "id": "genuine-tension",
   "metadata": {
    "ExecuteTime": {
     "end_time": "2023-09-19T07:28:08.210872Z",
     "start_time": "2023-09-19T07:28:08.175338Z"
    }
   },
   "outputs": [
    {
     "name": "stdout",
     "output_type": "stream",
     "text": [
      "0.8888889\n"
     ]
    }
   ],
   "source": [
    "correct_prediction = tf.equal(tf.argmax(h3, 1), tf.argmax(y, 1))\n",
    "accuracy = tf.reduce_mean(tf.cast(correct_prediction, tf.float32))\n",
    "feed_test = {x: test_X, y: pd.get_dummies(test_y).values}\n",
    "print(sess.run(accuracy, feed_dict=feed_test))"
   ]
  },
  {
   "cell_type": "code",
   "execution_count": 19,
   "id": "dated-jerusalem",
   "metadata": {
    "ExecuteTime": {
     "end_time": "2023-09-19T07:28:09.663844Z",
     "start_time": "2023-09-19T07:28:09.651838Z"
    }
   },
   "outputs": [],
   "source": [
    "sess.close()"
   ]
  },
  {
   "cell_type": "markdown",
   "id": "tender-chess",
   "metadata": {},
   "source": [
    "## 케라스를 이용한 구현"
   ]
  },
  {
   "cell_type": "code",
   "execution_count": 20,
   "id": "threaded-morgan",
   "metadata": {
    "ExecuteTime": {
     "end_time": "2023-09-19T07:28:12.946052Z",
     "start_time": "2023-09-19T07:28:12.826329Z"
    }
   },
   "outputs": [],
   "source": [
    "from tensorflow.keras.models import Sequential\n",
    "model = Sequential()"
   ]
  },
  {
   "cell_type": "code",
   "execution_count": 21,
   "id": "metric-tribune",
   "metadata": {
    "ExecuteTime": {
     "end_time": "2023-09-19T07:28:13.638905Z",
     "start_time": "2023-09-19T07:28:13.591374Z"
    }
   },
   "outputs": [],
   "source": [
    "from tensorflow.keras.layers import InputLayer, Dense\n",
    "model.add(InputLayer(4))\n",
    "model.add(Dense(50, activation='relu'))\n",
    "model.add(Dense(30, activation='relu'))\n",
    "model.add(Dense(3, activation='softmax'))"
   ]
  },
  {
   "cell_type": "code",
   "execution_count": 22,
   "id": "answering-production",
   "metadata": {
    "ExecuteTime": {
     "end_time": "2023-09-19T07:28:14.470409Z",
     "start_time": "2023-09-19T07:28:14.414684Z"
    }
   },
   "outputs": [],
   "source": [
    "model.compile(optimizer='adam', \n",
    "              loss='sparse_categorical_crossentropy', \n",
    "              metrics=['accuracy'])"
   ]
  },
  {
   "cell_type": "code",
   "execution_count": 23,
   "id": "adjacent-finland",
   "metadata": {
    "ExecuteTime": {
     "end_time": "2023-09-19T07:28:20.964607Z",
     "start_time": "2023-09-19T07:28:15.463919Z"
    },
    "scrolled": true
   },
   "outputs": [
    {
     "name": "stdout",
     "output_type": "stream",
     "text": [
      "Train on 105 samples\n",
      "Epoch 1/200\n",
      "105/105 [==============================] - 0s 338us/sample - loss: 1.4009 - acc: 0.3048\n",
      "Epoch 2/200\n",
      "105/105 [==============================] - 0s 39us/sample - loss: 1.2432 - acc: 0.3048\n",
      "Epoch 3/200\n",
      "105/105 [==============================] - 0s 49us/sample - loss: 1.1182 - acc: 0.3048\n",
      "Epoch 4/200\n",
      "105/105 [==============================] - 0s 40us/sample - loss: 1.0337 - acc: 0.3048\n",
      "Epoch 5/200\n",
      "105/105 [==============================] - 0s 41us/sample - loss: 0.9724 - acc: 0.3238\n",
      "Epoch 6/200\n",
      "105/105 [==============================] - 0s 27us/sample - loss: 0.9192 - acc: 0.6286\n",
      "Epoch 7/200\n",
      "105/105 [==============================] - 0s 30us/sample - loss: 0.8769 - acc: 0.6857\n",
      "Epoch 8/200\n",
      "105/105 [==============================] - 0s 43us/sample - loss: 0.8381 - acc: 0.6952\n",
      "Epoch 9/200\n",
      "105/105 [==============================] - 0s 40us/sample - loss: 0.8052 - acc: 0.6952\n",
      "Epoch 10/200\n",
      "105/105 [==============================] - 0s 33us/sample - loss: 0.7769 - acc: 0.6952\n",
      "Epoch 11/200\n",
      "105/105 [==============================] - 0s 30us/sample - loss: 0.7466 - acc: 0.7238\n",
      "Epoch 12/200\n",
      "105/105 [==============================] - 0s 35us/sample - loss: 0.7182 - acc: 0.7048\n",
      "Epoch 13/200\n",
      "105/105 [==============================] - 0s 35us/sample - loss: 0.6903 - acc: 0.7048\n",
      "Epoch 14/200\n",
      "105/105 [==============================] - 0s 42us/sample - loss: 0.6654 - acc: 0.7238\n",
      "Epoch 15/200\n",
      "105/105 [==============================] - 0s 36us/sample - loss: 0.6422 - acc: 0.8286\n",
      "Epoch 16/200\n",
      "105/105 [==============================] - 0s 29us/sample - loss: 0.6205 - acc: 0.8476\n",
      "Epoch 17/200\n",
      "105/105 [==============================] - 0s 41us/sample - loss: 0.6008 - acc: 0.8952\n",
      "Epoch 18/200\n",
      "105/105 [==============================] - 0s 34us/sample - loss: 0.5819 - acc: 0.9143\n",
      "Epoch 19/200\n",
      "105/105 [==============================] - 0s 34us/sample - loss: 0.5642 - acc: 0.8476\n",
      "Epoch 20/200\n",
      "105/105 [==============================] - 0s 38us/sample - loss: 0.5469 - acc: 0.8286\n",
      "Epoch 21/200\n",
      "105/105 [==============================] - 0s 31us/sample - loss: 0.5305 - acc: 0.8381\n",
      "Epoch 22/200\n",
      "105/105 [==============================] - 0s 34us/sample - loss: 0.5162 - acc: 0.8667\n",
      "Epoch 23/200\n",
      "105/105 [==============================] - 0s 34us/sample - loss: 0.5042 - acc: 0.9048\n",
      "Epoch 24/200\n",
      "105/105 [==============================] - 0s 38us/sample - loss: 0.4923 - acc: 0.8857\n",
      "Epoch 25/200\n",
      "105/105 [==============================] - 0s 35us/sample - loss: 0.4798 - acc: 0.8286\n",
      "Epoch 26/200\n",
      "105/105 [==============================] - 0s 28us/sample - loss: 0.4720 - acc: 0.7810\n",
      "Epoch 27/200\n",
      "105/105 [==============================] - 0s 32us/sample - loss: 0.4615 - acc: 0.7619\n",
      "Epoch 28/200\n",
      "105/105 [==============================] - 0s 32us/sample - loss: 0.4529 - acc: 0.7714\n",
      "Epoch 29/200\n",
      "105/105 [==============================] - 0s 28us/sample - loss: 0.4436 - acc: 0.8286\n",
      "Epoch 30/200\n",
      "105/105 [==============================] - 0s 35us/sample - loss: 0.4325 - acc: 0.8571\n",
      "Epoch 31/200\n",
      "105/105 [==============================] - 0s 31us/sample - loss: 0.4240 - acc: 0.8667\n",
      "Epoch 32/200\n",
      "105/105 [==============================] - 0s 39us/sample - loss: 0.4150 - acc: 0.8857\n",
      "Epoch 33/200\n",
      "105/105 [==============================] - 0s 29us/sample - loss: 0.4059 - acc: 0.9333\n",
      "Epoch 34/200\n",
      "105/105 [==============================] - 0s 40us/sample - loss: 0.3969 - acc: 0.9619\n",
      "Epoch 35/200\n",
      "105/105 [==============================] - 0s 33us/sample - loss: 0.3873 - acc: 0.9429\n",
      "Epoch 36/200\n",
      "105/105 [==============================] - 0s 33us/sample - loss: 0.3806 - acc: 0.9238\n",
      "Epoch 37/200\n",
      "105/105 [==============================] - 0s 34us/sample - loss: 0.3722 - acc: 0.8857\n",
      "Epoch 38/200\n",
      "105/105 [==============================] - 0s 43us/sample - loss: 0.3631 - acc: 0.9238\n",
      "Epoch 39/200\n",
      "105/105 [==============================] - 0s 30us/sample - loss: 0.3542 - acc: 0.9429\n",
      "Epoch 40/200\n",
      "105/105 [==============================] - 0s 37us/sample - loss: 0.3455 - acc: 0.9619\n",
      "Epoch 41/200\n",
      "105/105 [==============================] - 0s 54us/sample - loss: 0.3385 - acc: 0.9619\n",
      "Epoch 42/200\n",
      "105/105 [==============================] - 0s 36us/sample - loss: 0.3335 - acc: 0.9619\n",
      "Epoch 43/200\n",
      "105/105 [==============================] - 0s 29us/sample - loss: 0.3238 - acc: 0.9619\n",
      "Epoch 44/200\n",
      "105/105 [==============================] - 0s 33us/sample - loss: 0.3161 - acc: 0.9619\n",
      "Epoch 45/200\n",
      "105/105 [==============================] - 0s 36us/sample - loss: 0.3074 - acc: 0.9619\n",
      "Epoch 46/200\n",
      "105/105 [==============================] - 0s 36us/sample - loss: 0.3008 - acc: 0.9619\n",
      "Epoch 47/200\n",
      "105/105 [==============================] - 0s 36us/sample - loss: 0.2943 - acc: 0.9619\n",
      "Epoch 48/200\n",
      "105/105 [==============================] - 0s 38us/sample - loss: 0.2860 - acc: 0.9619\n",
      "Epoch 49/200\n",
      "105/105 [==============================] - 0s 30us/sample - loss: 0.2805 - acc: 0.9619\n",
      "Epoch 50/200\n",
      "105/105 [==============================] - 0s 32us/sample - loss: 0.2724 - acc: 0.9619\n",
      "Epoch 51/200\n",
      "105/105 [==============================] - 0s 41us/sample - loss: 0.2662 - acc: 0.9619\n",
      "Epoch 52/200\n",
      "105/105 [==============================] - 0s 30us/sample - loss: 0.2588 - acc: 0.9619\n",
      "Epoch 53/200\n",
      "105/105 [==============================] - 0s 24us/sample - loss: 0.2527 - acc: 0.9619\n",
      "Epoch 54/200\n",
      "105/105 [==============================] - 0s 29us/sample - loss: 0.2499 - acc: 0.9619\n",
      "Epoch 55/200\n",
      "105/105 [==============================] - 0s 38us/sample - loss: 0.2419 - acc: 0.9619\n",
      "Epoch 56/200\n",
      "105/105 [==============================] - 0s 34us/sample - loss: 0.2402 - acc: 0.9714\n",
      "Epoch 57/200\n",
      "105/105 [==============================] - 0s 37us/sample - loss: 0.2305 - acc: 0.9619\n",
      "Epoch 58/200\n",
      "105/105 [==============================] - 0s 30us/sample - loss: 0.2290 - acc: 0.9619\n",
      "Epoch 59/200\n",
      "105/105 [==============================] - 0s 33us/sample - loss: 0.2215 - acc: 0.9619\n",
      "Epoch 60/200\n",
      "105/105 [==============================] - 0s 41us/sample - loss: 0.2192 - acc: 0.9714\n",
      "Epoch 61/200\n",
      "105/105 [==============================] - 0s 29us/sample - loss: 0.2128 - acc: 0.9619\n",
      "Epoch 62/200\n",
      "105/105 [==============================] - 0s 17us/sample - loss: 0.2057 - acc: 0.9619\n",
      "Epoch 63/200\n",
      "105/105 [==============================] - 0s 29us/sample - loss: 0.2078 - acc: 0.9619\n",
      "Epoch 64/200\n",
      "105/105 [==============================] - 0s 33us/sample - loss: 0.2015 - acc: 0.9619\n",
      "Epoch 65/200\n",
      "105/105 [==============================] - 0s 16us/sample - loss: 0.1941 - acc: 0.9619\n",
      "Epoch 66/200\n",
      "105/105 [==============================] - 0s 19us/sample - loss: 0.1944 - acc: 0.9714\n",
      "Epoch 67/200\n",
      "105/105 [==============================] - 0s 35us/sample - loss: 0.1880 - acc: 0.9714\n",
      "Epoch 68/200\n",
      "105/105 [==============================] - 0s 35us/sample - loss: 0.1860 - acc: 0.9619\n",
      "Epoch 69/200\n",
      "105/105 [==============================] - 0s 27us/sample - loss: 0.1847 - acc: 0.9619\n",
      "Epoch 70/200\n",
      "105/105 [==============================] - 0s 34us/sample - loss: 0.1802 - acc: 0.9714\n",
      "Epoch 71/200\n",
      "105/105 [==============================] - 0s 34us/sample - loss: 0.1773 - acc: 0.9619\n",
      "Epoch 72/200\n",
      "105/105 [==============================] - 0s 29us/sample - loss: 0.1704 - acc: 0.9714\n",
      "Epoch 73/200\n",
      "105/105 [==============================] - 0s 19us/sample - loss: 0.1726 - acc: 0.9619\n",
      "Epoch 74/200\n",
      "105/105 [==============================] - 0s 17us/sample - loss: 0.1707 - acc: 0.9619\n",
      "Epoch 75/200\n",
      "105/105 [==============================] - 0s 30us/sample - loss: 0.1630 - acc: 0.9619\n",
      "Epoch 76/200\n",
      "105/105 [==============================] - 0s 39us/sample - loss: 0.1598 - acc: 0.9714\n",
      "Epoch 77/200\n",
      "105/105 [==============================] - 0s 38us/sample - loss: 0.1619 - acc: 0.9619\n",
      "Epoch 78/200\n",
      "105/105 [==============================] - 0s 29us/sample - loss: 0.1560 - acc: 0.9619\n",
      "Epoch 79/200\n",
      "105/105 [==============================] - 0s 41us/sample - loss: 0.1519 - acc: 0.9810\n",
      "Epoch 80/200\n",
      "105/105 [==============================] - 0s 29us/sample - loss: 0.1554 - acc: 0.9619\n",
      "Epoch 81/200\n",
      "105/105 [==============================] - 0s 29us/sample - loss: 0.1488 - acc: 0.9619\n",
      "Epoch 82/200\n"
     ]
    },
    {
     "name": "stdout",
     "output_type": "stream",
     "text": [
      "105/105 [==============================] - 0s 35us/sample - loss: 0.1470 - acc: 0.9619\n",
      "Epoch 83/200\n",
      "105/105 [==============================] - 0s 35us/sample - loss: 0.1502 - acc: 0.9619\n",
      "Epoch 84/200\n",
      "105/105 [==============================] - 0s 24us/sample - loss: 0.1454 - acc: 0.9619\n",
      "Epoch 85/200\n",
      "105/105 [==============================] - 0s 23us/sample - loss: 0.1410 - acc: 0.9619\n",
      "Epoch 86/200\n",
      "105/105 [==============================] - 0s 26us/sample - loss: 0.1389 - acc: 0.9714\n",
      "Epoch 87/200\n",
      "105/105 [==============================] - 0s 29us/sample - loss: 0.1364 - acc: 0.9714\n",
      "Epoch 88/200\n",
      "105/105 [==============================] - 0s 36us/sample - loss: 0.1350 - acc: 0.9619\n",
      "Epoch 89/200\n",
      "105/105 [==============================] - 0s 31us/sample - loss: 0.1324 - acc: 0.9714\n",
      "Epoch 90/200\n",
      "105/105 [==============================] - 0s 30us/sample - loss: 0.1333 - acc: 0.9619\n",
      "Epoch 91/200\n",
      "105/105 [==============================] - 0s 29us/sample - loss: 0.1288 - acc: 0.9714\n",
      "Epoch 92/200\n",
      "105/105 [==============================] - 0s 28us/sample - loss: 0.1339 - acc: 0.9619\n",
      "Epoch 93/200\n",
      "105/105 [==============================] - 0s 21us/sample - loss: 0.1313 - acc: 0.9619\n",
      "Epoch 94/200\n",
      "105/105 [==============================] - 0s 38us/sample - loss: 0.1310 - acc: 0.9619\n",
      "Epoch 95/200\n",
      "105/105 [==============================] - 0s 31us/sample - loss: 0.1280 - acc: 0.9619\n",
      "Epoch 96/200\n",
      "105/105 [==============================] - 0s 35us/sample - loss: 0.1242 - acc: 0.9619\n",
      "Epoch 97/200\n",
      "105/105 [==============================] - 0s 34us/sample - loss: 0.1221 - acc: 0.9619\n",
      "Epoch 98/200\n",
      "105/105 [==============================] - 0s 35us/sample - loss: 0.1202 - acc: 0.9714\n",
      "Epoch 99/200\n",
      "105/105 [==============================] - 0s 36us/sample - loss: 0.1194 - acc: 0.9714\n",
      "Epoch 100/200\n",
      "105/105 [==============================] - 0s 28us/sample - loss: 0.1178 - acc: 0.9714\n",
      "Epoch 101/200\n",
      "105/105 [==============================] - 0s 34us/sample - loss: 0.1179 - acc: 0.9619\n",
      "Epoch 102/200\n",
      "105/105 [==============================] - 0s 27us/sample - loss: 0.1174 - acc: 0.9714\n",
      "Epoch 103/200\n",
      "105/105 [==============================] - 0s 33us/sample - loss: 0.1150 - acc: 0.9714\n",
      "Epoch 104/200\n",
      "105/105 [==============================] - 0s 28us/sample - loss: 0.1135 - acc: 0.9714\n",
      "Epoch 105/200\n",
      "105/105 [==============================] - 0s 35us/sample - loss: 0.1132 - acc: 0.9714\n",
      "Epoch 106/200\n",
      "105/105 [==============================] - 0s 35us/sample - loss: 0.1144 - acc: 0.9714\n",
      "Epoch 107/200\n",
      "105/105 [==============================] - 0s 37us/sample - loss: 0.1167 - acc: 0.9714\n",
      "Epoch 108/200\n",
      "105/105 [==============================] - 0s 37us/sample - loss: 0.1115 - acc: 0.9619\n",
      "Epoch 109/200\n",
      "105/105 [==============================] - 0s 28us/sample - loss: 0.1101 - acc: 0.9714\n",
      "Epoch 110/200\n",
      "105/105 [==============================] - 0s 35us/sample - loss: 0.1090 - acc: 0.9714\n",
      "Epoch 111/200\n",
      "105/105 [==============================] - 0s 33us/sample - loss: 0.1085 - acc: 0.9619\n",
      "Epoch 112/200\n",
      "105/105 [==============================] - 0s 26us/sample - loss: 0.1077 - acc: 0.9714\n",
      "Epoch 113/200\n",
      "105/105 [==============================] - 0s 33us/sample - loss: 0.1066 - acc: 0.9714\n",
      "Epoch 114/200\n",
      "105/105 [==============================] - 0s 31us/sample - loss: 0.1062 - acc: 0.9714\n",
      "Epoch 115/200\n",
      "105/105 [==============================] - 0s 30us/sample - loss: 0.1075 - acc: 0.9619\n",
      "Epoch 116/200\n",
      "105/105 [==============================] - 0s 33us/sample - loss: 0.1106 - acc: 0.9619\n",
      "Epoch 117/200\n",
      "105/105 [==============================] - 0s 36us/sample - loss: 0.1065 - acc: 0.9619\n",
      "Epoch 118/200\n",
      "105/105 [==============================] - 0s 27us/sample - loss: 0.1024 - acc: 0.9619\n",
      "Epoch 119/200\n",
      "105/105 [==============================] - 0s 32us/sample - loss: 0.1046 - acc: 0.9619\n",
      "Epoch 120/200\n",
      "105/105 [==============================] - 0s 32us/sample - loss: 0.1070 - acc: 0.9619\n",
      "Epoch 121/200\n",
      "105/105 [==============================] - 0s 33us/sample - loss: 0.1028 - acc: 0.9619\n",
      "Epoch 122/200\n",
      "105/105 [==============================] - 0s 28us/sample - loss: 0.1119 - acc: 0.9619\n",
      "Epoch 123/200\n",
      "105/105 [==============================] - 0s 42us/sample - loss: 0.1063 - acc: 0.9619\n",
      "Epoch 124/200\n",
      "105/105 [==============================] - 0s 32us/sample - loss: 0.1026 - acc: 0.9619\n",
      "Epoch 125/200\n",
      "105/105 [==============================] - 0s 26us/sample - loss: 0.1052 - acc: 0.9619\n",
      "Epoch 126/200\n",
      "105/105 [==============================] - 0s 58us/sample - loss: 0.1011 - acc: 0.9714\n",
      "Epoch 127/200\n",
      "105/105 [==============================] - 0s 35us/sample - loss: 0.0988 - acc: 0.9714\n",
      "Epoch 128/200\n",
      "105/105 [==============================] - 0s 30us/sample - loss: 0.0980 - acc: 0.9714\n",
      "Epoch 129/200\n",
      "105/105 [==============================] - 0s 39us/sample - loss: 0.0975 - acc: 0.9714\n",
      "Epoch 130/200\n",
      "105/105 [==============================] - 0s 29us/sample - loss: 0.0974 - acc: 0.9619\n",
      "Epoch 131/200\n",
      "105/105 [==============================] - 0s 18us/sample - loss: 0.0968 - acc: 0.9714\n",
      "Epoch 132/200\n",
      "105/105 [==============================] - 0s 27us/sample - loss: 0.0965 - acc: 0.9714\n",
      "Epoch 133/200\n",
      "105/105 [==============================] - 0s 34us/sample - loss: 0.0940 - acc: 0.9714\n",
      "Epoch 134/200\n",
      "105/105 [==============================] - 0s 26us/sample - loss: 0.1039 - acc: 0.9619\n",
      "Epoch 135/200\n",
      "105/105 [==============================] - 0s 26us/sample - loss: 0.1031 - acc: 0.9619\n",
      "Epoch 136/200\n",
      "105/105 [==============================] - 0s 28us/sample - loss: 0.0964 - acc: 0.9714\n",
      "Epoch 137/200\n",
      "105/105 [==============================] - 0s 37us/sample - loss: 0.1013 - acc: 0.9619\n",
      "Epoch 138/200\n",
      "105/105 [==============================] - 0s 26us/sample - loss: 0.0947 - acc: 0.9714\n",
      "Epoch 139/200\n",
      "105/105 [==============================] - 0s 22us/sample - loss: 0.0941 - acc: 0.9619\n",
      "Epoch 140/200\n",
      "105/105 [==============================] - 0s 30us/sample - loss: 0.0950 - acc: 0.9619\n",
      "Epoch 141/200\n",
      "105/105 [==============================] - 0s 36us/sample - loss: 0.0923 - acc: 0.9714\n",
      "Epoch 142/200\n",
      "105/105 [==============================] - 0s 18us/sample - loss: 0.0923 - acc: 0.9714\n",
      "Epoch 143/200\n",
      "105/105 [==============================] - 0s 25us/sample - loss: 0.0924 - acc: 0.9714\n",
      "Epoch 144/200\n",
      "105/105 [==============================] - 0s 27us/sample - loss: 0.0937 - acc: 0.9714\n",
      "Epoch 145/200\n",
      "105/105 [==============================] - 0s 34us/sample - loss: 0.0923 - acc: 0.9714\n",
      "Epoch 146/200\n",
      "105/105 [==============================] - 0s 18us/sample - loss: 0.0907 - acc: 0.9714\n",
      "Epoch 147/200\n",
      "105/105 [==============================] - 0s 32us/sample - loss: 0.0922 - acc: 0.9619\n",
      "Epoch 148/200\n",
      "105/105 [==============================] - 0s 37us/sample - loss: 0.0973 - acc: 0.9619\n",
      "Epoch 149/200\n",
      "105/105 [==============================] - 0s 43us/sample - loss: 0.1002 - acc: 0.9714\n",
      "Epoch 150/200\n",
      "105/105 [==============================] - 0s 26us/sample - loss: 0.0899 - acc: 0.9619\n",
      "Epoch 151/200\n",
      "105/105 [==============================] - 0s 28us/sample - loss: 0.0958 - acc: 0.9619\n",
      "Epoch 152/200\n",
      "105/105 [==============================] - 0s 26us/sample - loss: 0.0965 - acc: 0.9619\n",
      "Epoch 153/200\n",
      "105/105 [==============================] - 0s 38us/sample - loss: 0.0869 - acc: 0.9714\n",
      "Epoch 154/200\n",
      "105/105 [==============================] - 0s 18us/sample - loss: 0.0958 - acc: 0.9619\n",
      "Epoch 155/200\n",
      "105/105 [==============================] - 0s 32us/sample - loss: 0.0995 - acc: 0.9714\n",
      "Epoch 156/200\n",
      "105/105 [==============================] - 0s 27us/sample - loss: 0.0860 - acc: 0.9714\n",
      "Epoch 157/200\n",
      "105/105 [==============================] - 0s 33us/sample - loss: 0.0924 - acc: 0.9619\n",
      "Epoch 158/200\n",
      "105/105 [==============================] - 0s 23us/sample - loss: 0.0934 - acc: 0.9619\n",
      "Epoch 159/200\n",
      "105/105 [==============================] - 0s 17us/sample - loss: 0.0874 - acc: 0.9714\n",
      "Epoch 160/200\n",
      "105/105 [==============================] - 0s 29us/sample - loss: 0.0951 - acc: 0.9619\n",
      "Epoch 161/200\n",
      "105/105 [==============================] - 0s 29us/sample - loss: 0.0876 - acc: 0.9619\n",
      "Epoch 162/200\n",
      "105/105 [==============================] - 0s 41us/sample - loss: 0.0919 - acc: 0.9714\n",
      "Epoch 163/200\n"
     ]
    },
    {
     "name": "stdout",
     "output_type": "stream",
     "text": [
      "105/105 [==============================] - 0s 40us/sample - loss: 0.1026 - acc: 0.9619\n",
      "Epoch 164/200\n",
      "105/105 [==============================] - 0s 31us/sample - loss: 0.0894 - acc: 0.9714\n",
      "Epoch 165/200\n",
      "105/105 [==============================] - 0s 41us/sample - loss: 0.0862 - acc: 0.9619\n",
      "Epoch 166/200\n",
      "105/105 [==============================] - 0s 35us/sample - loss: 0.0920 - acc: 0.9619\n",
      "Epoch 167/200\n",
      "105/105 [==============================] - 0s 28us/sample - loss: 0.0896 - acc: 0.9619\n",
      "Epoch 168/200\n",
      "105/105 [==============================] - 0s 35us/sample - loss: 0.0855 - acc: 0.9714\n",
      "Epoch 169/200\n",
      "105/105 [==============================] - 0s 36us/sample - loss: 0.0920 - acc: 0.9714\n",
      "Epoch 170/200\n",
      "105/105 [==============================] - 0s 33us/sample - loss: 0.0907 - acc: 0.9714\n",
      "Epoch 171/200\n",
      "105/105 [==============================] - 0s 32us/sample - loss: 0.0845 - acc: 0.9714\n",
      "Epoch 172/200\n",
      "105/105 [==============================] - 0s 34us/sample - loss: 0.0845 - acc: 0.9714\n",
      "Epoch 173/200\n",
      "105/105 [==============================] - 0s 42us/sample - loss: 0.0886 - acc: 0.9619\n",
      "Epoch 174/200\n",
      "105/105 [==============================] - 0s 30us/sample - loss: 0.0861 - acc: 0.9619\n",
      "Epoch 175/200\n",
      "105/105 [==============================] - 0s 34us/sample - loss: 0.0890 - acc: 0.9619\n",
      "Epoch 176/200\n",
      "105/105 [==============================] - 0s 37us/sample - loss: 0.0885 - acc: 0.9714\n",
      "Epoch 177/200\n",
      "105/105 [==============================] - 0s 31us/sample - loss: 0.0918 - acc: 0.9619\n",
      "Epoch 178/200\n",
      "105/105 [==============================] - 0s 29us/sample - loss: 0.0854 - acc: 0.9714\n",
      "Epoch 179/200\n",
      "105/105 [==============================] - 0s 44us/sample - loss: 0.0834 - acc: 0.9619\n",
      "Epoch 180/200\n",
      "105/105 [==============================] - 0s 32us/sample - loss: 0.0841 - acc: 0.9619\n",
      "Epoch 181/200\n",
      "105/105 [==============================] - 0s 34us/sample - loss: 0.0831 - acc: 0.9619\n",
      "Epoch 182/200\n",
      "105/105 [==============================] - 0s 31us/sample - loss: 0.0834 - acc: 0.9619\n",
      "Epoch 183/200\n",
      "105/105 [==============================] - 0s 38us/sample - loss: 0.0919 - acc: 0.9619\n",
      "Epoch 184/200\n",
      "105/105 [==============================] - 0s 36us/sample - loss: 0.0810 - acc: 0.9810\n",
      "Epoch 185/200\n",
      "105/105 [==============================] - 0s 31us/sample - loss: 0.0994 - acc: 0.9619\n",
      "Epoch 186/200\n",
      "105/105 [==============================] - 0s 39us/sample - loss: 0.0817 - acc: 0.9810\n",
      "Epoch 187/200\n",
      "105/105 [==============================] - 0s 35us/sample - loss: 0.1052 - acc: 0.9619\n",
      "Epoch 188/200\n",
      "105/105 [==============================] - 0s 29us/sample - loss: 0.0989 - acc: 0.9714\n",
      "Epoch 189/200\n",
      "105/105 [==============================] - 0s 33us/sample - loss: 0.0878 - acc: 0.9714\n",
      "Epoch 190/200\n",
      "105/105 [==============================] - 0s 33us/sample - loss: 0.0882 - acc: 0.9619\n",
      "Epoch 191/200\n",
      "105/105 [==============================] - 0s 25us/sample - loss: 0.0828 - acc: 0.9714\n",
      "Epoch 192/200\n",
      "105/105 [==============================] - 0s 36us/sample - loss: 0.0816 - acc: 0.9714\n",
      "Epoch 193/200\n",
      "105/105 [==============================] - 0s 40us/sample - loss: 0.0817 - acc: 0.9619\n",
      "Epoch 194/200\n",
      "105/105 [==============================] - 0s 36us/sample - loss: 0.0863 - acc: 0.9714\n",
      "Epoch 195/200\n",
      "105/105 [==============================] - 0s 27us/sample - loss: 0.0808 - acc: 0.9714\n",
      "Epoch 196/200\n",
      "105/105 [==============================] - 0s 33us/sample - loss: 0.0828 - acc: 0.9619\n",
      "Epoch 197/200\n",
      "105/105 [==============================] - 0s 39us/sample - loss: 0.0850 - acc: 0.9619\n",
      "Epoch 198/200\n",
      "105/105 [==============================] - 0s 39us/sample - loss: 0.0829 - acc: 0.9619\n",
      "Epoch 199/200\n",
      "105/105 [==============================] - 0s 38us/sample - loss: 0.0869 - acc: 0.9714\n",
      "Epoch 200/200\n",
      "105/105 [==============================] - 0s 45us/sample - loss: 0.0850 - acc: 0.9714\n"
     ]
    },
    {
     "data": {
      "text/plain": [
       "<keras.src.callbacks.History at 0x20ca6e7fa90>"
      ]
     },
     "execution_count": 23,
     "metadata": {},
     "output_type": "execute_result"
    }
   ],
   "source": [
    "model.fit(train_X, train_y, epochs=200)"
   ]
  },
  {
   "cell_type": "code",
   "execution_count": 28,
   "id": "average-delta",
   "metadata": {
    "ExecuteTime": {
     "end_time": "2023-09-19T07:28:21.938950Z",
     "start_time": "2023-09-19T07:28:21.888389Z"
    }
   },
   "outputs": [
    {
     "data": {
      "text/plain": [
       "[0.0609300847682688, 1.0]"
      ]
     },
     "execution_count": 28,
     "metadata": {},
     "output_type": "execute_result"
    }
   ],
   "source": [
    "model.evaluate(test_X, test_y) # 출력값은 loss와 accuracy"
   ]
  },
  {
   "cell_type": "code",
   "execution_count": null,
   "id": "6196df53",
   "metadata": {},
   "outputs": [],
   "source": []
  }
 ],
 "metadata": {
  "kernelspec": {
   "display_name": "Python 3 (ipykernel)",
   "language": "python",
   "name": "python3"
  },
  "language_info": {
   "codemirror_mode": {
    "name": "ipython",
    "version": 3
   },
   "file_extension": ".py",
   "mimetype": "text/x-python",
   "name": "python",
   "nbconvert_exporter": "python",
   "pygments_lexer": "ipython3",
   "version": "3.10.9"
  },
  "toc": {
   "base_numbering": 1,
   "nav_menu": {},
   "number_sections": true,
   "sideBar": true,
   "skip_h1_title": false,
   "title_cell": "Table of Contents",
   "title_sidebar": "Contents",
   "toc_cell": false,
   "toc_position": {
    "height": "calc(100% - 180px)",
    "left": "10px",
    "top": "150px",
    "width": "384.391px"
   },
   "toc_section_display": true,
   "toc_window_display": false
  },
  "varInspector": {
   "cols": {
    "lenName": 16,
    "lenType": 16,
    "lenVar": 40
   },
   "kernels_config": {
    "python": {
     "delete_cmd_postfix": "",
     "delete_cmd_prefix": "del ",
     "library": "var_list.py",
     "varRefreshCmd": "print(var_dic_list())"
    },
    "r": {
     "delete_cmd_postfix": ") ",
     "delete_cmd_prefix": "rm(",
     "library": "var_list.r",
     "varRefreshCmd": "cat(var_dic_list()) "
    }
   },
   "types_to_exclude": [
    "module",
    "function",
    "builtin_function_or_method",
    "instance",
    "_Feature"
   ],
   "window_display": false
  }
 },
 "nbformat": 4,
 "nbformat_minor": 5
}
