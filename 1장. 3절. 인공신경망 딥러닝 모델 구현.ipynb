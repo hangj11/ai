{
 "cells": [
  {
   "cell_type": "code",
   "execution_count": 1,
   "id": "dc0dcbfa",
   "metadata": {},
   "outputs": [
    {
     "data": {
      "text/html": [
       "<style>div.container { width:100% !important; }</style>"
      ],
      "text/plain": [
       "<IPython.core.display.HTML object>"
      ]
     },
     "metadata": {},
     "output_type": "display_data"
    }
   ],
   "source": [
    "from IPython.display import display, HTML\n",
    "display(HTML(\"<style>div.container { width:100% !important; }</style>\"))"
   ]
  },
  {
   "cell_type": "markdown",
   "id": "d8a24568",
   "metadata": {},
   "source": [
    "# 인공신경망 딥러닝 모델 구현"
   ]
  },
  {
   "cell_type": "code",
   "execution_count": 2,
   "id": "handled-bubble",
   "metadata": {
    "ExecuteTime": {
     "end_time": "2023-09-19T07:25:49.961006Z",
     "start_time": "2023-09-19T07:25:43.599451Z"
    }
   },
   "outputs": [
    {
     "data": {
      "text/plain": [
       "'2.13.0'"
      ]
     },
     "execution_count": 2,
     "metadata": {},
     "output_type": "execute_result"
    }
   ],
   "source": [
    "import tensorflow\n",
    "tensorflow.__version__"
   ]
  },
  {
   "cell_type": "markdown",
   "id": "0c659969",
   "metadata": {},
   "source": [
    "## iris 데이터 불러오기"
   ]
  },
  {
   "cell_type": "code",
   "execution_count": 3,
   "id": "excited-tractor",
   "metadata": {
    "ExecuteTime": {
     "end_time": "2023-09-19T07:27:40.530478Z",
     "start_time": "2023-09-19T07:27:40.523369Z"
    }
   },
   "outputs": [],
   "source": [
    "from sklearn import datasets"
   ]
  },
  {
   "cell_type": "code",
   "execution_count": 4,
   "id": "handled-scale",
   "metadata": {
    "ExecuteTime": {
     "end_time": "2023-09-19T07:27:41.878542Z",
     "start_time": "2023-09-19T07:27:41.230917Z"
    }
   },
   "outputs": [],
   "source": [
    "iris = datasets.load_iris()\n",
    "iris_X = iris.data\n",
    "iris_y = iris.target"
   ]
  },
  {
   "cell_type": "code",
   "execution_count": 5,
   "id": "gothic-madness",
   "metadata": {
    "ExecuteTime": {
     "end_time": "2023-09-19T07:27:44.392372Z",
     "start_time": "2023-09-19T07:27:44.328355Z"
    }
   },
   "outputs": [],
   "source": [
    "from sklearn.model_selection import train_test_split\n",
    "train_X, test_X, train_y, test_y = train_test_split(iris_X, iris_y, test_size=0.3,\n",
    "                                                    random_state=1)"
   ]
  },
  {
   "cell_type": "markdown",
   "id": "3290eda0",
   "metadata": {},
   "source": [
    "## 싸이킷런을 이용한 구현"
   ]
  },
  {
   "cell_type": "code",
   "execution_count": 6,
   "id": "civilian-fifth",
   "metadata": {
    "ExecuteTime": {
     "end_time": "2023-09-19T07:27:45.815439Z",
     "start_time": "2023-09-19T07:27:45.793167Z"
    }
   },
   "outputs": [],
   "source": [
    "from sklearn.neural_network import MLPClassifier\n",
    "mlp = MLPClassifier(hidden_layer_sizes=(50,30), activation=\"logistic\", solver=\"adam\",\n",
    "                    max_iter=1000) "
   ]
  },
  {
   "cell_type": "code",
   "execution_count": 7,
   "id": "painted-hygiene",
   "metadata": {
    "ExecuteTime": {
     "end_time": "2023-09-19T07:27:48.068385Z",
     "start_time": "2023-09-19T07:27:47.603020Z"
    },
    "scrolled": true
   },
   "outputs": [
    {
     "data": {
      "text/html": [
       "<style>#sk-container-id-1 {color: black;background-color: white;}#sk-container-id-1 pre{padding: 0;}#sk-container-id-1 div.sk-toggleable {background-color: white;}#sk-container-id-1 label.sk-toggleable__label {cursor: pointer;display: block;width: 100%;margin-bottom: 0;padding: 0.3em;box-sizing: border-box;text-align: center;}#sk-container-id-1 label.sk-toggleable__label-arrow:before {content: \"▸\";float: left;margin-right: 0.25em;color: #696969;}#sk-container-id-1 label.sk-toggleable__label-arrow:hover:before {color: black;}#sk-container-id-1 div.sk-estimator:hover label.sk-toggleable__label-arrow:before {color: black;}#sk-container-id-1 div.sk-toggleable__content {max-height: 0;max-width: 0;overflow: hidden;text-align: left;background-color: #f0f8ff;}#sk-container-id-1 div.sk-toggleable__content pre {margin: 0.2em;color: black;border-radius: 0.25em;background-color: #f0f8ff;}#sk-container-id-1 input.sk-toggleable__control:checked~div.sk-toggleable__content {max-height: 200px;max-width: 100%;overflow: auto;}#sk-container-id-1 input.sk-toggleable__control:checked~label.sk-toggleable__label-arrow:before {content: \"▾\";}#sk-container-id-1 div.sk-estimator input.sk-toggleable__control:checked~label.sk-toggleable__label {background-color: #d4ebff;}#sk-container-id-1 div.sk-label input.sk-toggleable__control:checked~label.sk-toggleable__label {background-color: #d4ebff;}#sk-container-id-1 input.sk-hidden--visually {border: 0;clip: rect(1px 1px 1px 1px);clip: rect(1px, 1px, 1px, 1px);height: 1px;margin: -1px;overflow: hidden;padding: 0;position: absolute;width: 1px;}#sk-container-id-1 div.sk-estimator {font-family: monospace;background-color: #f0f8ff;border: 1px dotted black;border-radius: 0.25em;box-sizing: border-box;margin-bottom: 0.5em;}#sk-container-id-1 div.sk-estimator:hover {background-color: #d4ebff;}#sk-container-id-1 div.sk-parallel-item::after {content: \"\";width: 100%;border-bottom: 1px solid gray;flex-grow: 1;}#sk-container-id-1 div.sk-label:hover label.sk-toggleable__label {background-color: #d4ebff;}#sk-container-id-1 div.sk-serial::before {content: \"\";position: absolute;border-left: 1px solid gray;box-sizing: border-box;top: 0;bottom: 0;left: 50%;z-index: 0;}#sk-container-id-1 div.sk-serial {display: flex;flex-direction: column;align-items: center;background-color: white;padding-right: 0.2em;padding-left: 0.2em;position: relative;}#sk-container-id-1 div.sk-item {position: relative;z-index: 1;}#sk-container-id-1 div.sk-parallel {display: flex;align-items: stretch;justify-content: center;background-color: white;position: relative;}#sk-container-id-1 div.sk-item::before, #sk-container-id-1 div.sk-parallel-item::before {content: \"\";position: absolute;border-left: 1px solid gray;box-sizing: border-box;top: 0;bottom: 0;left: 50%;z-index: -1;}#sk-container-id-1 div.sk-parallel-item {display: flex;flex-direction: column;z-index: 1;position: relative;background-color: white;}#sk-container-id-1 div.sk-parallel-item:first-child::after {align-self: flex-end;width: 50%;}#sk-container-id-1 div.sk-parallel-item:last-child::after {align-self: flex-start;width: 50%;}#sk-container-id-1 div.sk-parallel-item:only-child::after {width: 0;}#sk-container-id-1 div.sk-dashed-wrapped {border: 1px dashed gray;margin: 0 0.4em 0.5em 0.4em;box-sizing: border-box;padding-bottom: 0.4em;background-color: white;}#sk-container-id-1 div.sk-label label {font-family: monospace;font-weight: bold;display: inline-block;line-height: 1.2em;}#sk-container-id-1 div.sk-label-container {text-align: center;}#sk-container-id-1 div.sk-container {/* jupyter's `normalize.less` sets `[hidden] { display: none; }` but bootstrap.min.css set `[hidden] { display: none !important; }` so we also need the `!important` here to be able to override the default hidden behavior on the sphinx rendered scikit-learn.org. See: https://github.com/scikit-learn/scikit-learn/issues/21755 */display: inline-block !important;position: relative;}#sk-container-id-1 div.sk-text-repr-fallback {display: none;}</style><div id=\"sk-container-id-1\" class=\"sk-top-container\"><div class=\"sk-text-repr-fallback\"><pre>MLPClassifier(activation=&#x27;logistic&#x27;, hidden_layer_sizes=(50, 30), max_iter=1000)</pre><b>In a Jupyter environment, please rerun this cell to show the HTML representation or trust the notebook. <br />On GitHub, the HTML representation is unable to render, please try loading this page with nbviewer.org.</b></div><div class=\"sk-container\" hidden><div class=\"sk-item\"><div class=\"sk-estimator sk-toggleable\"><input class=\"sk-toggleable__control sk-hidden--visually\" id=\"sk-estimator-id-1\" type=\"checkbox\" checked><label for=\"sk-estimator-id-1\" class=\"sk-toggleable__label sk-toggleable__label-arrow\">MLPClassifier</label><div class=\"sk-toggleable__content\"><pre>MLPClassifier(activation=&#x27;logistic&#x27;, hidden_layer_sizes=(50, 30), max_iter=1000)</pre></div></div></div></div></div>"
      ],
      "text/plain": [
       "MLPClassifier(activation='logistic', hidden_layer_sizes=(50, 30), max_iter=1000)"
      ]
     },
     "execution_count": 7,
     "metadata": {},
     "output_type": "execute_result"
    }
   ],
   "source": [
    "mlp.fit(train_X, train_y)"
   ]
  },
  {
   "cell_type": "code",
   "execution_count": 8,
   "id": "thorough-intent",
   "metadata": {
    "ExecuteTime": {
     "end_time": "2023-09-19T07:27:49.155925Z",
     "start_time": "2023-09-19T07:27:49.139449Z"
    }
   },
   "outputs": [
    {
     "data": {
      "text/plain": [
       "1.0"
      ]
     },
     "execution_count": 8,
     "metadata": {},
     "output_type": "execute_result"
    }
   ],
   "source": [
    "mlp.score(test_X, test_y)"
   ]
  },
  {
   "cell_type": "code",
   "execution_count": 9,
   "id": "capable-packing",
   "metadata": {
    "ExecuteTime": {
     "end_time": "2023-09-19T07:27:50.095942Z",
     "start_time": "2023-09-19T07:27:50.087968Z"
    }
   },
   "outputs": [],
   "source": [
    "pred = mlp.predict(test_X)"
   ]
  },
  {
   "cell_type": "code",
   "execution_count": 10,
   "id": "developmental-married",
   "metadata": {
    "ExecuteTime": {
     "end_time": "2023-09-19T07:27:50.943442Z",
     "start_time": "2023-09-19T07:27:50.895221Z"
    }
   },
   "outputs": [
    {
     "data": {
      "text/html": [
       "<div>\n",
       "<style scoped>\n",
       "    .dataframe tbody tr th:only-of-type {\n",
       "        vertical-align: middle;\n",
       "    }\n",
       "\n",
       "    .dataframe tbody tr th {\n",
       "        vertical-align: top;\n",
       "    }\n",
       "\n",
       "    .dataframe thead th {\n",
       "        text-align: right;\n",
       "    }\n",
       "</style>\n",
       "<table border=\"1\" class=\"dataframe\">\n",
       "  <thead>\n",
       "    <tr style=\"text-align: right;\">\n",
       "      <th>col_0</th>\n",
       "      <th>0</th>\n",
       "      <th>1</th>\n",
       "      <th>2</th>\n",
       "    </tr>\n",
       "    <tr>\n",
       "      <th>row_0</th>\n",
       "      <th></th>\n",
       "      <th></th>\n",
       "      <th></th>\n",
       "    </tr>\n",
       "  </thead>\n",
       "  <tbody>\n",
       "    <tr>\n",
       "      <th>0</th>\n",
       "      <td>14</td>\n",
       "      <td>0</td>\n",
       "      <td>0</td>\n",
       "    </tr>\n",
       "    <tr>\n",
       "      <th>1</th>\n",
       "      <td>0</td>\n",
       "      <td>18</td>\n",
       "      <td>0</td>\n",
       "    </tr>\n",
       "    <tr>\n",
       "      <th>2</th>\n",
       "      <td>0</td>\n",
       "      <td>0</td>\n",
       "      <td>13</td>\n",
       "    </tr>\n",
       "  </tbody>\n",
       "</table>\n",
       "</div>"
      ],
      "text/plain": [
       "col_0   0   1   2\n",
       "row_0            \n",
       "0      14   0   0\n",
       "1       0  18   0\n",
       "2       0   0  13"
      ]
     },
     "execution_count": 10,
     "metadata": {},
     "output_type": "execute_result"
    }
   ],
   "source": [
    "import pandas as pd\n",
    "pd.crosstab(pred, test_y) #교차분류표\n",
    "# pd.crosstab(np.argmax(pred, axis=1), np.argmax(test_y, axis=1)) #교차분류표"
   ]
  },
  {
   "cell_type": "markdown",
   "id": "9f3af4f9",
   "metadata": {
    "ExecuteTime": {
     "end_time": "2021-06-11T12:11:18.360938Z",
     "start_time": "2021-06-11T12:11:18.344944Z"
    }
   },
   "source": [
    "## 텐서플로우를 이용한 구현"
   ]
  },
  {
   "cell_type": "code",
   "execution_count": 11,
   "id": "transparent-egyptian",
   "metadata": {
    "ExecuteTime": {
     "end_time": "2023-09-19T07:27:52.233454Z",
     "start_time": "2023-09-19T07:27:52.224576Z"
    },
    "scrolled": true
   },
   "outputs": [
    {
     "name": "stdout",
     "output_type": "stream",
     "text": [
      "WARNING:tensorflow:From C:\\Users\\kosa\\anaconda3\\lib\\site-packages\\tensorflow\\python\\compat\\v2_compat.py:107: disable_resource_variables (from tensorflow.python.ops.variable_scope) is deprecated and will be removed in a future version.\n",
      "Instructions for updating:\n",
      "non-resource variables are not supported in the long term\n"
     ]
    }
   ],
   "source": [
    "import tensorflow.compat.v1 as tf\n",
    "tf.disable_v2_behavior()"
   ]
  },
  {
   "cell_type": "code",
   "execution_count": 12,
   "id": "requested-webcam",
   "metadata": {
    "ExecuteTime": {
     "end_time": "2023-09-19T07:27:54.940745Z",
     "start_time": "2023-09-19T07:27:54.910375Z"
    }
   },
   "outputs": [],
   "source": [
    "x = tf.placeholder(tf.float32, [None, 4])\n",
    "y = tf.placeholder(tf.float32, [None, 3])"
   ]
  },
  {
   "cell_type": "code",
   "execution_count": 13,
   "id": "posted-explosion",
   "metadata": {
    "ExecuteTime": {
     "end_time": "2023-09-19T07:27:55.567295Z",
     "start_time": "2023-09-19T07:27:55.527538Z"
    }
   },
   "outputs": [],
   "source": [
    "W1 = tf.Variable(tf.random_normal([4, 50]))\n",
    "b1 = tf.Variable(tf.zeros([50]))\n",
    "h1 = tf.nn.sigmoid(tf.matmul(x, W1)+b1)"
   ]
  },
  {
   "cell_type": "code",
   "execution_count": 14,
   "id": "exciting-birthday",
   "metadata": {
    "ExecuteTime": {
     "end_time": "2023-09-19T07:28:02.853890Z",
     "start_time": "2023-09-19T07:28:02.827217Z"
    }
   },
   "outputs": [],
   "source": [
    "W2 = tf.Variable(tf.random_normal([50, 30]))\n",
    "b2 = tf.Variable(tf.zeros([30]))\n",
    "h2 = tf.nn.sigmoid(tf.matmul(h1, W2)+b2)"
   ]
  },
  {
   "cell_type": "code",
   "execution_count": 15,
   "id": "latin-nigeria",
   "metadata": {
    "ExecuteTime": {
     "end_time": "2023-09-19T07:28:03.691248Z",
     "start_time": "2023-09-19T07:28:03.678976Z"
    }
   },
   "outputs": [],
   "source": [
    "W3 = tf.Variable(tf.random_normal([30, 3]))\n",
    "b3 = tf.Variable(tf.zeros([3]))\n",
    "h3 = tf.nn.softmax(tf.matmul(h2, W3)+b3)"
   ]
  },
  {
   "cell_type": "code",
   "execution_count": 16,
   "id": "endless-preserve",
   "metadata": {
    "ExecuteTime": {
     "end_time": "2023-09-19T07:28:04.680310Z",
     "start_time": "2023-09-19T07:28:04.557869Z"
    }
   },
   "outputs": [],
   "source": [
    "cross_entropy = -tf.reduce_sum(y*tf.log(h3), reduction_indices=[1])\n",
    "loss = tf.reduce_mean(cross_entropy)\n",
    "train = tf.train.AdamOptimizer().minimize(loss)"
   ]
  },
  {
   "cell_type": "code",
   "execution_count": 17,
   "id": "speaking-publisher",
   "metadata": {
    "ExecuteTime": {
     "end_time": "2023-09-19T07:28:06.122776Z",
     "start_time": "2023-09-19T07:28:05.404496Z"
    }
   },
   "outputs": [
    {
     "name": "stdout",
     "output_type": "stream",
     "text": [
      "Step 0, 3.29460\n",
      "Step 100, 0.50687\n",
      "Step 200, 0.26487\n",
      "Step 300, 0.17835\n",
      "Step 400, 0.12432\n",
      "Step 500, 0.10359\n",
      "Step 600, 0.09261\n",
      "Step 700, 0.08554\n",
      "Step 800, 0.08034\n",
      "Step 900, 0.07632\n"
     ]
    }
   ],
   "source": [
    "import pandas as pd\n",
    "\n",
    "feed_train = {x: train_X, y: pd.get_dummies(train_y).values}\n",
    "\n",
    "init = tf.global_variables_initializer()\n",
    "sess = tf.Session()\n",
    "sess.run(init)\n",
    "\n",
    "for i in range(1000):\n",
    "    sess.run(train, feed_dict=feed_train)\n",
    "\n",
    "    if i%100 == 0:\n",
    "        tr_loss = sess.run(loss, feed_dict=feed_train)\n",
    "        print(\"Step %d, %.5f\" % (i, tr_loss))"
   ]
  },
  {
   "cell_type": "code",
   "execution_count": 18,
   "id": "genuine-tension",
   "metadata": {
    "ExecuteTime": {
     "end_time": "2023-09-19T07:28:08.210872Z",
     "start_time": "2023-09-19T07:28:08.175338Z"
    }
   },
   "outputs": [
    {
     "name": "stdout",
     "output_type": "stream",
     "text": [
      "1.0\n"
     ]
    }
   ],
   "source": [
    "correct_prediction = tf.equal(tf.argmax(h3, 1), tf.argmax(y, 1))\n",
    "accuracy = tf.reduce_mean(tf.cast(correct_prediction, tf.float32))\n",
    "feed_test = {x: test_X, y: pd.get_dummies(test_y).values}\n",
    "print(sess.run(accuracy, feed_dict=feed_test))"
   ]
  },
  {
   "cell_type": "code",
   "execution_count": 19,
   "id": "dated-jerusalem",
   "metadata": {
    "ExecuteTime": {
     "end_time": "2023-09-19T07:28:09.663844Z",
     "start_time": "2023-09-19T07:28:09.651838Z"
    }
   },
   "outputs": [],
   "source": [
    "sess.close()"
   ]
  },
  {
   "cell_type": "markdown",
   "id": "tender-chess",
   "metadata": {},
   "source": [
    "## 케라스를 이용한 구현"
   ]
  },
  {
   "cell_type": "code",
   "execution_count": 20,
   "id": "threaded-morgan",
   "metadata": {
    "ExecuteTime": {
     "end_time": "2023-09-19T07:28:12.946052Z",
     "start_time": "2023-09-19T07:28:12.826329Z"
    }
   },
   "outputs": [],
   "source": [
    "from tensorflow.keras.models import Sequential\n",
    "model = Sequential()"
   ]
  },
  {
   "cell_type": "code",
   "execution_count": 21,
   "id": "metric-tribune",
   "metadata": {
    "ExecuteTime": {
     "end_time": "2023-09-19T07:28:13.638905Z",
     "start_time": "2023-09-19T07:28:13.591374Z"
    }
   },
   "outputs": [],
   "source": [
    "from tensorflow.keras.layers import InputLayer, Dense\n",
    "model.add(InputLayer(4))\n",
    "model.add(Dense(50, activation='sigmoid'))\n",
    "model.add(Dense(30, activation='sigmoid'))\n",
    "model.add(Dense(3, activation='softmax'))"
   ]
  },
  {
   "cell_type": "code",
   "execution_count": 22,
   "id": "answering-production",
   "metadata": {
    "ExecuteTime": {
     "end_time": "2023-09-19T07:28:14.470409Z",
     "start_time": "2023-09-19T07:28:14.414684Z"
    }
   },
   "outputs": [],
   "source": [
    "model.compile(optimizer='adam', \n",
    "              loss='sparse_categorical_crossentropy', \n",
    "              metrics=['accuracy'])"
   ]
  },
  {
   "cell_type": "code",
   "execution_count": 23,
   "id": "adjacent-finland",
   "metadata": {
    "ExecuteTime": {
     "end_time": "2023-09-19T07:28:20.964607Z",
     "start_time": "2023-09-19T07:28:15.463919Z"
    },
    "scrolled": true
   },
   "outputs": [
    {
     "data": {
      "text/plain": [
       "<keras.src.callbacks.History at 0x198fccae920>"
      ]
     },
     "execution_count": 23,
     "metadata": {},
     "output_type": "execute_result"
    }
   ],
   "source": [
    "model.fit(train_X, train_y, epochs=300, verbose=0)"
   ]
  },
  {
   "cell_type": "code",
   "execution_count": 24,
   "id": "average-delta",
   "metadata": {
    "ExecuteTime": {
     "end_time": "2023-09-19T07:28:21.938950Z",
     "start_time": "2023-09-19T07:28:21.888389Z"
    }
   },
   "outputs": [
    {
     "name": "stderr",
     "output_type": "stream",
     "text": [
      "C:\\Users\\kosa\\anaconda3\\lib\\site-packages\\keras\\src\\engine\\training_v1.py:2335: UserWarning: `Model.state_updates` will be removed in a future version. This property should not be used in TensorFlow 2.0, as `updates` are applied automatically.\n",
      "  updates = self.state_updates\n"
     ]
    },
    {
     "data": {
      "text/plain": [
       "[0.062196592489878334, 1.0]"
      ]
     },
     "execution_count": 24,
     "metadata": {},
     "output_type": "execute_result"
    }
   ],
   "source": [
    "model.evaluate(test_X, test_y) # 출력값은 loss와 accuracy"
   ]
  },
  {
   "cell_type": "markdown",
   "id": "8a3df2ab",
   "metadata": {},
   "source": [
    "## 파이토치를 이용한 구현"
   ]
  },
  {
   "cell_type": "code",
   "execution_count": 25,
   "id": "bf1c0a6a",
   "metadata": {},
   "outputs": [],
   "source": [
    "# # CPU 버전 설치 (최신 버전)\n",
    "# ! pip install torch\n",
    "\n",
    "# # GPU 지원 버전 설치 (최신 버전)\n",
    "# ! pip install torch torchvision torchaudio -f https://download.pytorch.org/whl/torch_stable.html"
   ]
  },
  {
   "cell_type": "code",
   "execution_count": 26,
   "id": "6196df53",
   "metadata": {},
   "outputs": [
    {
     "name": "stdout",
     "output_type": "stream",
     "text": [
      "2.0.1+cpu\n"
     ]
    }
   ],
   "source": [
    "import torch\n",
    "print(torch.__version__)"
   ]
  },
  {
   "cell_type": "code",
   "execution_count": 27,
   "id": "7a569e66",
   "metadata": {},
   "outputs": [],
   "source": [
    "from sklearn import datasets\n",
    "iris = datasets.load_iris()\n",
    "iris_X = iris.data\n",
    "iris_y = iris.target\n",
    "from sklearn.model_selection import train_test_split\n",
    "train_X, test_X, train_y, test_y = train_test_split(iris_X, iris_y, test_size=0.3,\n",
    "                                                    random_state=1)"
   ]
  },
  {
   "cell_type": "code",
   "execution_count": 28,
   "id": "6b1b75a4",
   "metadata": {},
   "outputs": [],
   "source": [
    "import torch\n",
    "import torch.nn as nn\n",
    "\n",
    "# 모델 클래스 정의\n",
    "class CustomModel(nn.Module):\n",
    "    def __init__(self):\n",
    "        super(CustomModel, self).__init__()\n",
    "        self.fc1 = nn.Linear(4, 50)\n",
    "        self.fc2 = nn.Linear(50, 30)\n",
    "        self.fc3 = nn.Linear(30, 3)\n",
    "        self.softmax = nn.Softmax(dim=1)\n",
    "        # 가중치 초기화 (Xavier 초기화)\n",
    "        nn.init.xavier_uniform_(self.fc1.weight)\n",
    "        nn.init.xavier_uniform_(self.fc2.weight)\n",
    "        nn.init.xavier_uniform_(self.fc3.weight)\n",
    "\n",
    "    def forward(self, x):\n",
    "        x = torch.sigmoid(self.fc1(x))\n",
    "        x = torch.sigmoid(self.fc2(x))\n",
    "        x = self.softmax(self.fc3(x))\n",
    "        return x\n",
    "\n",
    "# 모델 생성\n",
    "model = CustomModel()"
   ]
  },
  {
   "cell_type": "code",
   "execution_count": 29,
   "id": "a4d6e12e",
   "metadata": {},
   "outputs": [],
   "source": [
    "# 모델 정의를 아래처럼 Sequential을 이용할 수 있음\n",
    "import torch\n",
    "import torch.nn as nn\n",
    "\n",
    "model = nn.Sequential(\n",
    "    nn.Linear(4, 50), nn.Sigmoid(),\n",
    "    nn.Linear(50, 30), nn.Sigmoid(),\n",
    "    nn.Linear(30, 3), nn.Softmax(dim=1)\n",
    ")"
   ]
  },
  {
   "cell_type": "code",
   "execution_count": 30,
   "id": "27633ca2",
   "metadata": {},
   "outputs": [],
   "source": [
    "# 손실 함수 및 옵티마이저 정의\n",
    "import torch.optim as optim\n",
    "\n",
    "criterion = nn.CrossEntropyLoss()\n",
    "optimizer = optim.Adam(model.parameters())\n",
    "\n",
    "# 모델 학습\n",
    "for epoch in range(1000):\n",
    "    inputs = torch.from_numpy(train_X).float()\n",
    "    labels = torch.from_numpy(train_y).long()\n",
    "    \n",
    "    optimizer.zero_grad()\n",
    "    outputs = model(inputs)\n",
    "    loss = criterion(outputs, labels)\n",
    "    loss.backward()\n",
    "    optimizer.step()"
   ]
  },
  {
   "cell_type": "code",
   "execution_count": 31,
   "id": "e0adfaac",
   "metadata": {},
   "outputs": [
    {
     "name": "stdout",
     "output_type": "stream",
     "text": [
      "Test Loss:0.5719500780105591, Test Accuracy:0.9777777777777777\n"
     ]
    }
   ],
   "source": [
    "# 모델 평가\n",
    "with torch.no_grad():\n",
    "    inputs = torch.from_numpy(test_X).float()\n",
    "    labels = torch.from_numpy(test_y).long()\n",
    "    outputs = model(inputs)\n",
    "    loss = criterion(outputs, labels)\n",
    "    _, predicted = torch.max(outputs, 1)\n",
    "    accuracy = (predicted == labels).sum().item() / len(test_y)\n",
    "\n",
    "print(f\"Test Loss:{loss.item()}, Test Accuracy:{accuracy}\")"
   ]
  },
  {
   "cell_type": "markdown",
   "id": "09527a9f",
   "metadata": {},
   "source": [
    "### 파이토치의 Sequential 이용"
   ]
  },
  {
   "cell_type": "code",
   "execution_count": 32,
   "id": "3db7866c",
   "metadata": {},
   "outputs": [],
   "source": [
    "from sklearn import datasets\n",
    "iris = datasets.load_iris()\n",
    "iris_X = iris.data\n",
    "iris_y = iris.target\n",
    "from sklearn.model_selection import train_test_split\n",
    "train_X, test_X, train_y, test_y = train_test_split(iris_X, iris_y, test_size=0.3,\n",
    "                                                    random_state=1)"
   ]
  },
  {
   "cell_type": "code",
   "execution_count": 33,
   "id": "4898cf65",
   "metadata": {},
   "outputs": [],
   "source": [
    "# 넘파이 배열을 토치 텐서로 변환\n",
    "import torch\n",
    "\n",
    "train_X = torch.tensor(train_X, dtype=torch.float32)\n",
    "train_y = torch.tensor(train_y, dtype=torch.int64)\n",
    "test_X = torch.tensor(test_X, dtype=torch.float32)\n",
    "test_y = torch.tensor(test_y, dtype=torch.int64)"
   ]
  },
  {
   "cell_type": "code",
   "execution_count": 34,
   "id": "5f8451c6",
   "metadata": {},
   "outputs": [],
   "source": [
    "import numpy as np\n",
    "import torch\n",
    "import torch.nn as nn\n",
    "import torch.optim as optim\n",
    "\n",
    "# 모델 정의\n",
    "model = nn.Sequential(\n",
    "    nn.Linear(4, 50), nn.Sigmoid(),\n",
    "    nn.Linear(50, 30), nn.Sigmoid(),\n",
    "    nn.Linear(30, 3), nn.Softmax(dim=1)\n",
    ")\n",
    "\n",
    "# 가중치 초깃값 지정\n",
    "for layer in model:\n",
    "    if isinstance(layer, nn.Linear):\n",
    "        nn.init.xavier_uniform_(layer.weight)\n",
    "\n",
    "# 손실 함수와 옵티마이저 정의\n",
    "criterion = nn.CrossEntropyLoss()\n",
    "optimizer = optim.Adam(model.parameters())"
   ]
  },
  {
   "cell_type": "code",
   "execution_count": 35,
   "id": "6641a970",
   "metadata": {},
   "outputs": [
    {
     "name": "stdout",
     "output_type": "stream",
     "text": [
      "Loss: 0.6756656169891357, Accuracy: 0.9777777777777777\n"
     ]
    }
   ],
   "source": [
    "# 모델 학습\n",
    "for epoch in range(300):\n",
    "    outputs = model(train_X)\n",
    "    loss = criterion(outputs, train_y)\n",
    "    optimizer.zero_grad()\n",
    "    loss.backward()\n",
    "    optimizer.step()\n",
    "\n",
    "# 모델 평가\n",
    "with torch.no_grad():\n",
    "    test_outputs = model(test_X)\n",
    "    _, predicted = torch.max(test_outputs, 1)\n",
    "    accuracy = (predicted == test_y).sum().item() / test_y.size(0)\n",
    "    print(\"Loss: {}, Accuracy: {}\".format(loss.item(), accuracy))"
   ]
  },
  {
   "cell_type": "code",
   "execution_count": null,
   "id": "a621c690",
   "metadata": {},
   "outputs": [],
   "source": []
  }
 ],
 "metadata": {
  "kernelspec": {
   "display_name": "Python 3 (ipykernel)",
   "language": "python",
   "name": "python3"
  },
  "language_info": {
   "codemirror_mode": {
    "name": "ipython",
    "version": 3
   },
   "file_extension": ".py",
   "mimetype": "text/x-python",
   "name": "python",
   "nbconvert_exporter": "python",
   "pygments_lexer": "ipython3",
   "version": "3.10.9"
  },
  "toc": {
   "base_numbering": 1,
   "nav_menu": {},
   "number_sections": true,
   "sideBar": true,
   "skip_h1_title": false,
   "title_cell": "Table of Contents",
   "title_sidebar": "Contents",
   "toc_cell": false,
   "toc_position": {
    "height": "calc(100% - 180px)",
    "left": "10px",
    "top": "150px",
    "width": "384.391px"
   },
   "toc_section_display": true,
   "toc_window_display": true
  },
  "varInspector": {
   "cols": {
    "lenName": 16,
    "lenType": 16,
    "lenVar": 40
   },
   "kernels_config": {
    "python": {
     "delete_cmd_postfix": "",
     "delete_cmd_prefix": "del ",
     "library": "var_list.py",
     "varRefreshCmd": "print(var_dic_list())"
    },
    "r": {
     "delete_cmd_postfix": ") ",
     "delete_cmd_prefix": "rm(",
     "library": "var_list.r",
     "varRefreshCmd": "cat(var_dic_list()) "
    }
   },
   "types_to_exclude": [
    "module",
    "function",
    "builtin_function_or_method",
    "instance",
    "_Feature"
   ],
   "window_display": false
  }
 },
 "nbformat": 4,
 "nbformat_minor": 5
}
