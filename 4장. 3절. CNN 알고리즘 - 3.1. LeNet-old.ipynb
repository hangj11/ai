{
 "cells": [
  {
   "cell_type": "markdown",
   "metadata": {},
   "source": [
    "#### 케라스로 LeNet 구현하기"
   ]
  },
  {
   "cell_type": "code",
   "execution_count": 1,
   "metadata": {
    "ExecuteTime": {
     "end_time": "2021-12-03T01:55:00.323490Z",
     "start_time": "2021-12-03T01:54:58.786980Z"
    }
   },
   "outputs": [],
   "source": [
    "from tensorflow.keras.models import Sequential\n",
    "from tensorflow.keras.layers import Conv2D\n",
    "from tensorflow.keras.layers import MaxPooling2D\n",
    "from tensorflow.keras.layers import Activation\n",
    "from tensorflow.keras.layers import Flatten\n",
    "from tensorflow.keras.layers import Dense\n",
    "from tensorflow.keras import backend as K\n",
    " \n",
    "class LeNet:\n",
    "\n",
    "    @staticmethod \n",
    "    def build(numChannels, imgRows, imgCols, numClasses, \n",
    "              activation=\"relu\"):\n",
    "\n",
    "        model = Sequential()\n",
    "        inputShape = (imgRows, imgCols, numChannels)\n",
    "        # \"channels first\"이면 shape를 변경함 \n",
    "        if K.image_data_format() == \"channels_first\":\n",
    "            inputShape = (numChannels, imgRows, imgCols)\n",
    "        # 첫 번째 CONV => ACTIVATION => POOL 계층 \n",
    "        model.add(Conv2D(6, 5, padding=\"same\", input_shape=inputShape))\n",
    "        model.add(Activation(activation))\n",
    "        model.add(MaxPooling2D(pool_size=(2, 2), strides=(2, 2)))\n",
    "        # 두 번째 CONV => ACTIVATION => POOL 계층 \n",
    "        model.add(Conv2D(16, 5, padding=\"same\"))\n",
    "        model.add(Activation(activation))\n",
    "        model.add(MaxPooling2D(pool_size=(2, 2), strides=(2, 2)))\n",
    "        \n",
    "        # 첫 번째 FC => ACTIVATION 계층 \n",
    "        model.add(Flatten())\n",
    "        model.add(Dense(120))\n",
    "        model.add(Activation(activation))\n",
    "        # 두 번째 FC 계층 \n",
    "        model.add(Flatten())\n",
    "        model.add(Dense(84))\n",
    "        model.add(Activation(activation))\n",
    "        # 출력층 soft-max 활성화 함수 사용\n",
    "        model.add(Dense(numClasses))\n",
    "        model.add(Activation(\"softmax\"))\n",
    "\n",
    "        return model"
   ]
  },
  {
   "cell_type": "markdown",
   "metadata": {},
   "source": [
    "#### LeNet을 이용한 MNIST 숫자이미지 분류"
   ]
  },
  {
   "cell_type": "code",
   "execution_count": 2,
   "metadata": {
    "ExecuteTime": {
     "end_time": "2021-12-03T01:55:00.364830Z",
     "start_time": "2021-12-03T01:55:00.324406Z"
    }
   },
   "outputs": [],
   "source": [
    "# import the necessary packages\n",
    "from tensorflow.keras.datasets import mnist\n",
    "from tensorflow.keras.optimizers import SGD\n",
    "from tensorflow.keras import utils\n",
    "import numpy as np\n",
    "import cv2"
   ]
  },
  {
   "cell_type": "code",
   "execution_count": 3,
   "metadata": {
    "ExecuteTime": {
     "end_time": "2021-12-03T01:55:00.590784Z",
     "start_time": "2021-12-03T01:55:00.367609Z"
    }
   },
   "outputs": [],
   "source": [
    "((trainData, trainLabels), (testData, testLabels)) = mnist.load_data()\n",
    " \n",
    "if K.image_data_format() == \"channels_first\":\n",
    "    trainData = trainData.reshape((-1, 1, 28, 28))\n",
    "    testData = testData.reshape((-1, 1, 28, 28))\n",
    "else:\n",
    "    trainData = trainData.reshape((-1, 28, 28, 1))\n",
    "    testData = testData.reshape((-1, 28, 28, 1))\n",
    "# [0, 1] Scaling \n",
    "trainData = trainData.astype(\"float32\") / 255.0\n",
    "testData = testData.astype(\"float32\") / 255.0"
   ]
  },
  {
   "cell_type": "code",
   "execution_count": 4,
   "metadata": {
    "ExecuteTime": {
     "end_time": "2021-12-03T01:55:00.594174Z",
     "start_time": "2021-12-03T01:55:00.591534Z"
    }
   },
   "outputs": [],
   "source": [
    "trainLabels = utils.to_categorical(trainLabels, 10)\n",
    "testLabels = utils.to_categorical(testLabels, 10)"
   ]
  },
  {
   "cell_type": "code",
   "execution_count": 5,
   "metadata": {
    "ExecuteTime": {
     "end_time": "2021-12-03T01:55:00.635790Z",
     "start_time": "2021-12-03T01:55:00.595147Z"
    }
   },
   "outputs": [],
   "source": [
    "opt = SGD(learning_rate=0.01)\n",
    "model = LeNet.build(numChannels=1, imgRows=28, imgCols=28,numClasses=10)\n",
    "model.compile(loss=\"categorical_crossentropy\", optimizer=opt, metrics=[\"accuracy\"])"
   ]
  },
  {
   "cell_type": "code",
   "execution_count": 6,
   "metadata": {
    "ExecuteTime": {
     "end_time": "2021-12-03T01:56:56.013928Z",
     "start_time": "2021-12-03T01:55:00.636608Z"
    }
   },
   "outputs": [
    {
     "name": "stdout",
     "output_type": "stream",
     "text": [
      "Epoch 1/30\n",
      "300/300 [==============================] - 4s 13ms/step - loss: 1.9823 - accuracy: 0.3328\n",
      "Epoch 2/30\n",
      "300/300 [==============================] - 4s 13ms/step - loss: 0.4195 - accuracy: 0.8711\n",
      "Epoch 3/30\n",
      "300/300 [==============================] - 4s 13ms/step - loss: 0.2769 - accuracy: 0.9166\n",
      "Epoch 4/30\n",
      "300/300 [==============================] - 4s 13ms/step - loss: 0.2209 - accuracy: 0.9314\n",
      "Epoch 5/30\n",
      "300/300 [==============================] - 4s 13ms/step - loss: 0.1861 - accuracy: 0.9433\n",
      "Epoch 6/30\n",
      "300/300 [==============================] - 4s 13ms/step - loss: 0.1597 - accuracy: 0.9532\n",
      "Epoch 7/30\n",
      "300/300 [==============================] - 4s 13ms/step - loss: 0.1508 - accuracy: 0.9548\n",
      "Epoch 8/30\n",
      "300/300 [==============================] - 4s 13ms/step - loss: 0.1337 - accuracy: 0.9595\n",
      "Epoch 9/30\n",
      "300/300 [==============================] - 4s 13ms/step - loss: 0.1148 - accuracy: 0.9662\n",
      "Epoch 10/30\n",
      "300/300 [==============================] - 4s 13ms/step - loss: 0.1083 - accuracy: 0.9676\n",
      "Epoch 11/30\n",
      "300/300 [==============================] - 4s 13ms/step - loss: 0.0981 - accuracy: 0.9700\n",
      "Epoch 12/30\n",
      "300/300 [==============================] - 4s 13ms/step - loss: 0.0889 - accuracy: 0.9740\n",
      "Epoch 13/30\n",
      "300/300 [==============================] - 4s 13ms/step - loss: 0.0836 - accuracy: 0.9743\n",
      "Epoch 14/30\n",
      "300/300 [==============================] - 4s 13ms/step - loss: 0.0804 - accuracy: 0.9760\n",
      "Epoch 15/30\n",
      "300/300 [==============================] - 4s 13ms/step - loss: 0.0789 - accuracy: 0.9768\n",
      "Epoch 16/30\n",
      "300/300 [==============================] - 4s 13ms/step - loss: 0.0769 - accuracy: 0.9765\n",
      "Epoch 17/30\n",
      "300/300 [==============================] - 4s 13ms/step - loss: 0.0704 - accuracy: 0.9790\n",
      "Epoch 18/30\n",
      "300/300 [==============================] - 4s 13ms/step - loss: 0.0675 - accuracy: 0.9797\n",
      "Epoch 19/30\n",
      "300/300 [==============================] - 4s 13ms/step - loss: 0.0627 - accuracy: 0.9813\n",
      "Epoch 20/30\n",
      "300/300 [==============================] - 4s 13ms/step - loss: 0.0611 - accuracy: 0.9815\n",
      "Epoch 21/30\n",
      "300/300 [==============================] - 4s 13ms/step - loss: 0.0608 - accuracy: 0.9816\n",
      "Epoch 22/30\n",
      "300/300 [==============================] - 4s 13ms/step - loss: 0.0603 - accuracy: 0.9817\n",
      "Epoch 23/30\n",
      "300/300 [==============================] - 4s 13ms/step - loss: 0.0522 - accuracy: 0.9839\n",
      "Epoch 24/30\n",
      "300/300 [==============================] - 4s 13ms/step - loss: 0.0543 - accuracy: 0.9842\n",
      "Epoch 25/30\n",
      "300/300 [==============================] - 4s 13ms/step - loss: 0.0512 - accuracy: 0.9845\n",
      "Epoch 26/30\n",
      "300/300 [==============================] - 4s 13ms/step - loss: 0.0487 - accuracy: 0.9850\n",
      "Epoch 27/30\n",
      "300/300 [==============================] - 4s 13ms/step - loss: 0.0485 - accuracy: 0.9847\n",
      "Epoch 28/30\n",
      "300/300 [==============================] - 4s 13ms/step - loss: 0.0501 - accuracy: 0.9852\n",
      "Epoch 29/30\n",
      "300/300 [==============================] - 4s 13ms/step - loss: 0.0455 - accuracy: 0.9857\n",
      "Epoch 30/30\n",
      "300/300 [==============================] - 4s 13ms/step - loss: 0.0426 - accuracy: 0.9867\n"
     ]
    },
    {
     "data": {
      "text/plain": [
       "<tensorflow.python.keras.callbacks.History at 0x1697b85e0>"
      ]
     },
     "execution_count": 6,
     "metadata": {},
     "output_type": "execute_result"
    }
   ],
   "source": [
    "model.fit(trainData, trainLabels, batch_size=200, epochs=30)"
   ]
  },
  {
   "cell_type": "code",
   "execution_count": 7,
   "metadata": {
    "ExecuteTime": {
     "end_time": "2021-12-03T01:56:56.269879Z",
     "start_time": "2021-12-03T01:56:56.015402Z"
    }
   },
   "outputs": [
    {
     "name": "stdout",
     "output_type": "stream",
     "text": [
      "79/79 [==============================] - 0s 2ms/step - loss: 0.0515 - accuracy: 0.9830\n",
      "accuracy: 98.30%\n"
     ]
    }
   ],
   "source": [
    "(loss, accuracy) = model.evaluate(testData, testLabels, batch_size=128, verbose=1)\n",
    "print(\"accuracy: {:.2f}%\".format(accuracy * 100))"
   ]
  },
  {
   "cell_type": "code",
   "execution_count": 8,
   "metadata": {
    "ExecuteTime": {
     "end_time": "2021-12-03T01:56:56.277444Z",
     "start_time": "2021-12-03T01:56:56.270716Z"
    }
   },
   "outputs": [],
   "source": [
    "# check to see if the model should be saved to file\n",
    "model.save_weights(\"lenet_weights.hdf5\", overwrite=True)"
   ]
  },
  {
   "cell_type": "code",
   "execution_count": 9,
   "metadata": {
    "ExecuteTime": {
     "end_time": "2021-12-03T02:01:08.911472Z",
     "start_time": "2021-12-03T01:56:56.278182Z"
    }
   },
   "outputs": [
    {
     "name": "stdout",
     "output_type": "stream",
     "text": [
      "Predicted: 4, Actual: 4\n",
      "Predicted: 0, Actual: 0\n",
      "Predicted: 1, Actual: 1\n",
      "Predicted: 3, Actual: 3\n",
      "Predicted: 3, Actual: 3\n",
      "Predicted: 7, Actual: 7\n",
      "Predicted: 4, Actual: 4\n",
      "Predicted: 0, Actual: 0\n",
      "Predicted: 4, Actual: 4\n",
      "Predicted: 9, Actual: 9\n"
     ]
    }
   ],
   "source": [
    "samples = np.random.choice(np.arange(0,len(testLabels)),size=(10,))\n",
    "\n",
    "for i in samples:\n",
    "    probs = model.predict(testData[np.newaxis, i])\n",
    "    prediction = probs.argmax(axis=1)\n",
    "\n",
    "    if K.image_data_format() == \"channels_first\":\n",
    "        image = (testData[i][0] * 255).astype(\"uint8\")\n",
    "    else:\n",
    "        image = (testData[i] * 255).astype(\"uint8\")\n",
    " \n",
    "    image = cv2.merge([image] * 3)\n",
    " \n",
    "    image = cv2.resize(image, (96, 96),\n",
    "                       interpolation=cv2.INTER_LINEAR)\n",
    " \n",
    "    cv2.putText(image, str(prediction[0]), (5, 20),\n",
    "                cv2.FONT_HERSHEY_SIMPLEX, 0.75, (0,255,0), 2)\n",
    "    print(\"Predicted: {}, Actual: {}\".format(prediction[0],\n",
    "                                             np.argmax(testLabels[i])))\n",
    "    cv2.imshow(\"Digit\", image)\n",
    "    cv2.waitKey(0)\n",
    "\n",
    "cv2.destroyAllWindows()"
   ]
  },
  {
   "cell_type": "code",
   "execution_count": null,
   "metadata": {},
   "outputs": [],
   "source": []
  }
 ],
 "metadata": {
  "kernelspec": {
   "display_name": "Python 3 (ipykernel)",
   "language": "python",
   "name": "python3"
  },
  "language_info": {
   "codemirror_mode": {
    "name": "ipython",
    "version": 3
   },
   "file_extension": ".py",
   "mimetype": "text/x-python",
   "name": "python",
   "nbconvert_exporter": "python",
   "pygments_lexer": "ipython3",
   "version": "3.9.7"
  },
  "toc": {
   "base_numbering": 1,
   "nav_menu": {},
   "number_sections": true,
   "sideBar": true,
   "skip_h1_title": false,
   "title_cell": "Table of Contents",
   "title_sidebar": "Contents",
   "toc_cell": false,
   "toc_position": {},
   "toc_section_display": true,
   "toc_window_display": false
  },
  "varInspector": {
   "cols": {
    "lenName": 16,
    "lenType": 16,
    "lenVar": 40
   },
   "kernels_config": {
    "python": {
     "delete_cmd_postfix": "",
     "delete_cmd_prefix": "del ",
     "library": "var_list.py",
     "varRefreshCmd": "print(var_dic_list())"
    },
    "r": {
     "delete_cmd_postfix": ") ",
     "delete_cmd_prefix": "rm(",
     "library": "var_list.r",
     "varRefreshCmd": "cat(var_dic_list()) "
    }
   },
   "types_to_exclude": [
    "module",
    "function",
    "builtin_function_or_method",
    "instance",
    "_Feature"
   ],
   "window_display": false
  }
 },
 "nbformat": 4,
 "nbformat_minor": 4
}
